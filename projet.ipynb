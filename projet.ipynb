{
 "cells": [
  {
   "cell_type": "code",
   "execution_count": 181,
   "metadata": {},
   "outputs": [],
   "source": [
    "import os\n",
    "import math\n",
    "import numpy as np\n",
    "import pandas as pd\n",
    "import re\n",
    "from sklearn.preprocessing import StandardScaler, MinMaxScaler\n",
    "from sklearn.model_selection import train_test_split\n",
    "import tensorflow as tf\n",
    "from tensorflow import keras"
   ]
  },
  {
   "cell_type": "code",
   "execution_count": 15,
   "metadata": {},
   "outputs": [],
   "source": [
    "data_path = 'data/'"
   ]
  },
  {
   "cell_type": "markdown",
   "metadata": {},
   "source": [
    "### Dataset Movie Lens\n",
    "\n",
    "Load dataset from source"
   ]
  },
  {
   "cell_type": "code",
   "execution_count": 16,
   "metadata": {},
   "outputs": [],
   "source": [
    "users = pd.read_csv(\n",
    "    data_path + \"ml-1m/users.dat\",\n",
    "    sep=\"::\",\n",
    "    names=[\"user_id\", \"sex\", \"age_group\", \"occupation\", \"zip_code\"],\n",
    "    engine=\"python\",\n",
    ")\n",
    "\n",
    "ratings = pd.read_csv(\n",
    "    data_path + \"ml-1m/ratings.dat\",\n",
    "    sep=\"::\",\n",
    "    names=[\"user_id\", \"movie_id\", \"rating\", \"unix_timestamp\"],\n",
    "    engine=\"python\",\n",
    ")\n",
    "\n",
    "movies = pd.read_csv(\n",
    "    data_path + \"ml-1m/movies.dat\",\n",
    "    sep=\"::\",\n",
    "    names=[\"movie_id\", \"title\", \"genres\"],\n",
    "    engine=\"python\",\n",
    "    encoding=\"latin-1\",\n",
    ")"
   ]
  },
  {
   "cell_type": "code",
   "execution_count": 17,
   "metadata": {},
   "outputs": [],
   "source": [
    "mv = movies.copy()\n",
    "us = users.copy()\n",
    "rt = ratings.copy()"
   ]
  },
  {
   "cell_type": "code",
   "execution_count": 38,
   "metadata": {},
   "outputs": [],
   "source": [
    "movies = mv.copy()\n",
    "users = us.copy()\n",
    "ratings = rt.copy()\n"
   ]
  },
  {
   "cell_type": "markdown",
   "metadata": {},
   "source": [
    "## Preprocess\n",
    "\n",
    "users:\n",
    "* change la valeur str de la colonne sex en 1 ou 0 pour que le modèle comprenne la colonne\n",
    "* drop la colonne zip_code car peu intéressante pour la tâche\n",
    "\n",
    "movies:\n",
    "* sectionne la partie année des titres pour créer une nouvelle colonne année\n",
    "* supprime la partie (année) des titres pour qu'ils soient possible de les comparer avec le dataset imdb\n",
    "\n",
    "ratings:\n",
    "* passe la colonne rating de str a float\n",
    "* drop la colonne \"unix_timestamp\" car inutile"
   ]
  },
  {
   "cell_type": "code",
   "execution_count": 39,
   "metadata": {},
   "outputs": [],
   "source": [
    "# users[\"user_id\"] = users[\"user_id\"].apply(lambda x: f\"user_{x}\")\n",
    "# users[\"age_group\"] = users[\"age_group\"].apply(lambda x: f\"group_{x}\")\n",
    "# users[\"occupation\"] = users[\"occupation\"].apply(lambda x: f\"occupation_{x}\")\n",
    "\n",
    "users['sex'] = users['sex'].apply(lambda x: 1 if(x == 'M') else 0)\n",
    "users.drop(columns=\"zip_code\", inplace=True)\n",
    "\n",
    "# movies[\"movie_id\"] = movies[\"movie_id\"].apply(lambda x: f\"movie_{x}\")\n",
    "movies[\"year\"] = movies[\"title\"].apply(lambda x : int(x[-5:-1]))\n",
    "movies[\"title\"] = movies[\"title\"].apply(lambda x : x[:-7].lower())\n",
    "\n",
    "# ratings[\"movie_id\"] = ratings[\"movie_id\"].apply(lambda x: f\"movie_{x}\")\n",
    "# ratings[\"user_id\"] = ratings[\"user_id\"].apply(lambda x: f\"user_{x}\")\n",
    "ratings[\"rating\"] = ratings[\"rating\"].apply(lambda x: float(x))\n",
    "\n",
    "ratings.drop(columns=\"unix_timestamp\", inplace=True)\n"
   ]
  },
  {
   "cell_type": "markdown",
   "metadata": {},
   "source": [
    "Certains titres sont sous la forme: \"aaaa, the\" au lieu de \"the aaaa\". Je modifie donc la colonne title avec une regex, du pattern matching avec groupe, pour résoudre ce problème.\n",
    "Après résolution du problème les titres pourront être comparé avec ceux de imdb."
   ]
  },
  {
   "cell_type": "code",
   "execution_count": 43,
   "metadata": {},
   "outputs": [],
   "source": [
    "pattern = re.compile(r'^(.*), (the|a|an)$', re.IGNORECASE)\n",
    "def rearrange_title(title):\n",
    "    match = pattern.match(title)\n",
    "    if match:\n",
    "        return f\"{match.group(2)} {match.group(1)}\"\n",
    "    return title\n",
    "\n",
    "movies['title'] = movies['title'].apply(rearrange_title)"
   ]
  },
  {
   "cell_type": "markdown",
   "metadata": {},
   "source": [
    "Change le genre Children's avec Family pour correspondre au même genre que l'autre jeu de donnée (imdb)"
   ]
  },
  {
   "cell_type": "code",
   "execution_count": 42,
   "metadata": {},
   "outputs": [],
   "source": [
    "movies['genres'] = movies['genres'].str.replace(\"Children's\", \"Family\")"
   ]
  },
  {
   "cell_type": "code",
   "execution_count": 46,
   "metadata": {},
   "outputs": [],
   "source": [
    "### pas besoin y en a pas\n",
    "movies.drop_duplicates(inplace=True)"
   ]
  },
  {
   "cell_type": "markdown",
   "metadata": {},
   "source": [
    "### dataset imdb\n",
    "\n",
    "Data Loading"
   ]
  },
  {
   "cell_type": "code",
   "execution_count": 25,
   "metadata": {},
   "outputs": [],
   "source": [
    "# name_basics = pd.read_csv(\n",
    "#     data_path + r\"imdb/name.basics.tsv\",\n",
    "#     sep='\\t',\n",
    "#     engine=\"python\",\n",
    "#     # low_memory=False\n",
    "# )\n",
    "\n",
    "title_basics = pd.read_csv(\n",
    "    data_path + r\"imdb/title.basics.tsv\",\n",
    "    sep='\\t',\n",
    "    # engine=\"python\",\n",
    "    low_memory=False\n",
    ")\n",
    "\n",
    "title_ratings = pd.read_csv(\n",
    "    data_path + r\"imdb/title.ratings.tsv\",\n",
    "    sep='\\t',\n",
    "    # engine=\"python\",\n",
    "    low_memory=False\n",
    ")\n"
   ]
  },
  {
   "cell_type": "markdown",
   "metadata": {},
   "source": [
    "je sélectionne que les critiques de films ou de tvmovie car movielens ne contient que ce genre d'oeuvre"
   ]
  },
  {
   "cell_type": "code",
   "execution_count": 142,
   "metadata": {},
   "outputs": [
    {
     "data": {
      "text/plain": [
       "array(['movie', 'tvMovie'], dtype=object)"
      ]
     },
     "execution_count": 142,
     "metadata": {},
     "output_type": "execute_result"
    }
   ],
   "source": [
    "movietype = [\"movie\", \"tvMovie\"]\n",
    "title_preprocess = title_basics[title_basics[\"titleType\"].isin(movietype)].copy()\n",
    "title_preprocess['titleType'].unique()"
   ]
  },
  {
   "cell_type": "code",
   "execution_count": 143,
   "metadata": {},
   "outputs": [],
   "source": [
    "### on drope endYear car la colonne ne fait sens que pour les TV series\n",
    "title_preprocess.drop(columns=\"endYear\", inplace=True)"
   ]
  },
  {
   "cell_type": "markdown",
   "metadata": {},
   "source": [
    "Toutes les colonnes sont de type object, to_numeric c'est quand des valeurs sont a Nan"
   ]
  },
  {
   "cell_type": "code",
   "execution_count": 148,
   "metadata": {},
   "outputs": [],
   "source": [
    "title_preprocess[\"primaryTitle\"] = title_preprocess[\"primaryTitle\"].apply(str.lower)\n",
    "title_preprocess[\"originalTitle\"] = title_preprocess[\"originalTitle\"].apply(str.lower)\n",
    "title_preprocess[\"isAdult\"] = title_preprocess[\"isAdult\"].apply(int)\n",
    "title_preprocess['startYear'] = pd.to_numeric(title_preprocess['startYear'], errors=\"coerce\")\n",
    "title_preprocess['runtimeMinutes'] = pd.to_numeric(title_preprocess['runtimeMinutes'], errors=\"coerce\")\n",
    "\n",
    "title_ratings[\"averageRating\"] = title_ratings['averageRating'].apply(float)\n",
    "title_ratings[\"numVotes\"] = title_ratings['numVotes'].apply(int)\n",
    "\n",
    "title_preprocess.replace(r'\\N', np.nan, inplace=True)\n",
    "# title_preprocess.drop(columns='tconst', inplace=True)"
   ]
  },
  {
   "cell_type": "markdown",
   "metadata": {},
   "source": [
    "merge les descriptions des films avec leur rating celon tconst, leur id"
   ]
  },
  {
   "cell_type": "code",
   "execution_count": 151,
   "metadata": {},
   "outputs": [
    {
     "data": {
      "text/html": [
       "<div>\n",
       "<style scoped>\n",
       "    .dataframe tbody tr th:only-of-type {\n",
       "        vertical-align: middle;\n",
       "    }\n",
       "\n",
       "    .dataframe tbody tr th {\n",
       "        vertical-align: top;\n",
       "    }\n",
       "\n",
       "    .dataframe thead th {\n",
       "        text-align: right;\n",
       "    }\n",
       "</style>\n",
       "<table border=\"1\" class=\"dataframe\">\n",
       "  <thead>\n",
       "    <tr style=\"text-align: right;\">\n",
       "      <th></th>\n",
       "      <th>titleType</th>\n",
       "      <th>primaryTitle</th>\n",
       "      <th>originalTitle</th>\n",
       "      <th>isAdult</th>\n",
       "      <th>startYear</th>\n",
       "      <th>runtimeMinutes</th>\n",
       "      <th>genres</th>\n",
       "      <th>averageRating</th>\n",
       "      <th>numVotes</th>\n",
       "    </tr>\n",
       "  </thead>\n",
       "  <tbody>\n",
       "    <tr>\n",
       "      <th>0</th>\n",
       "      <td>movie</td>\n",
       "      <td>miss jerry</td>\n",
       "      <td>miss jerry</td>\n",
       "      <td>0</td>\n",
       "      <td>1894.0</td>\n",
       "      <td>45.0</td>\n",
       "      <td>Romance</td>\n",
       "      <td>5.4</td>\n",
       "      <td>212.0</td>\n",
       "    </tr>\n",
       "    <tr>\n",
       "      <th>1</th>\n",
       "      <td>movie</td>\n",
       "      <td>the corbett-fitzsimmons fight</td>\n",
       "      <td>the corbett-fitzsimmons fight</td>\n",
       "      <td>0</td>\n",
       "      <td>1897.0</td>\n",
       "      <td>100.0</td>\n",
       "      <td>Documentary,News,Sport</td>\n",
       "      <td>5.2</td>\n",
       "      <td>518.0</td>\n",
       "    </tr>\n",
       "    <tr>\n",
       "      <th>2</th>\n",
       "      <td>movie</td>\n",
       "      <td>bohemios</td>\n",
       "      <td>bohemios</td>\n",
       "      <td>0</td>\n",
       "      <td>1905.0</td>\n",
       "      <td>100.0</td>\n",
       "      <td>NaN</td>\n",
       "      <td>4.4</td>\n",
       "      <td>17.0</td>\n",
       "    </tr>\n",
       "    <tr>\n",
       "      <th>3</th>\n",
       "      <td>movie</td>\n",
       "      <td>the story of the kelly gang</td>\n",
       "      <td>the story of the kelly gang</td>\n",
       "      <td>0</td>\n",
       "      <td>1906.0</td>\n",
       "      <td>70.0</td>\n",
       "      <td>Action,Adventure,Biography</td>\n",
       "      <td>6.0</td>\n",
       "      <td>914.0</td>\n",
       "    </tr>\n",
       "    <tr>\n",
       "      <th>4</th>\n",
       "      <td>movie</td>\n",
       "      <td>the prodigal son</td>\n",
       "      <td>l'enfant prodigue</td>\n",
       "      <td>0</td>\n",
       "      <td>1907.0</td>\n",
       "      <td>90.0</td>\n",
       "      <td>Drama</td>\n",
       "      <td>5.4</td>\n",
       "      <td>27.0</td>\n",
       "    </tr>\n",
       "  </tbody>\n",
       "</table>\n",
       "</div>"
      ],
      "text/plain": [
       "  titleType                   primaryTitle                  originalTitle  \\\n",
       "0     movie                     miss jerry                     miss jerry   \n",
       "1     movie  the corbett-fitzsimmons fight  the corbett-fitzsimmons fight   \n",
       "2     movie                       bohemios                       bohemios   \n",
       "3     movie    the story of the kelly gang    the story of the kelly gang   \n",
       "4     movie               the prodigal son              l'enfant prodigue   \n",
       "\n",
       "   isAdult  startYear  runtimeMinutes                      genres  \\\n",
       "0        0     1894.0            45.0                     Romance   \n",
       "1        0     1897.0           100.0      Documentary,News,Sport   \n",
       "2        0     1905.0           100.0                         NaN   \n",
       "3        0     1906.0            70.0  Action,Adventure,Biography   \n",
       "4        0     1907.0            90.0                       Drama   \n",
       "\n",
       "   averageRating  numVotes  \n",
       "0            5.4     212.0  \n",
       "1            5.2     518.0  \n",
       "2            4.4      17.0  \n",
       "3            6.0     914.0  \n",
       "4            5.4      27.0  "
      ]
     },
     "execution_count": 151,
     "metadata": {},
     "output_type": "execute_result"
    }
   ],
   "source": [
    "title_merged = pd.merge(title_preprocess, title_ratings, on=\"tconst\", how=\"left\")\n",
    "title_merged.drop(columns=\"tconst\", inplace=True)\n",
    "title_merged.head()"
   ]
  },
  {
   "cell_type": "markdown",
   "metadata": {},
   "source": [
    "on merge les caractéristiques des films de imdb et movielens, selont les titres et l'année de parutions."
   ]
  },
  {
   "cell_type": "code",
   "execution_count": 194,
   "metadata": {},
   "outputs": [],
   "source": [
    "merged_df1 = pd.merge(movies, title_merged, left_on=[\"title\", \"year\"], right_on=[\"primaryTitle\", \"startYear\"], how=\"left\")\n",
    "merged_df2 = pd.merge(movies, title_merged, left_on=[\"title\", \"year\"], right_on=[\"originalTitle\", \"startYear\"], how=\"inner\")\n",
    "final_df = pd.concat([merged_df2, merged_df1], ignore_index=True).drop_duplicates()\n",
    "# merged_df3 = pd.merge(movies, final_df, on='movie_id', how=\"outer\")\n",
    "# final_df = pd.concat([final_df, merged_df3], ignore_index=True).drop_duplicates()"
   ]
  },
  {
   "cell_type": "markdown",
   "metadata": {},
   "source": [
    "j'ai deux cas soit title != primarytitle et j'obtiens un doublon a cause de left (je suis obligé sinon je perd des films), il y a deux films avec le meme titre et je prend le plus connue => qui est le plus plosible d'etre dans movielens."
   ]
  },
  {
   "cell_type": "code",
   "execution_count": 197,
   "metadata": {},
   "outputs": [],
   "source": [
    "def custom_rule(group):\n",
    "    return group.sort_values(by=\"numVotes\", ascending=False).iloc[0]\n",
    "\n",
    "final_df = final_df.groupby(\"movie_id\").apply(custom_rule).reset_index(drop=True)"
   ]
  },
  {
   "cell_type": "markdown",
   "metadata": {},
   "source": [
    "merge les colonnes de genres de imdb et movie lens"
   ]
  },
  {
   "cell_type": "code",
   "execution_count": 199,
   "metadata": {},
   "outputs": [],
   "source": [
    "def merge_genres(row):\n",
    "    genres1 = row['genres_x'].split('|') if pd.notna(row['genres_x']) else []\n",
    "    genres2 = row['genres_y'].split(',') if pd.notna(row['genres_y']) else []\n",
    "    merged_genres = list(set(genres1 + genres2))  # Fusionner et supprimer les doublons\n",
    "    return '|'.join(merged_genres)  # Rejoindre avec le délimiteur '|'\n",
    "\n",
    "# Appliquer la fonction à chaque ligne du DataFrame\n",
    "final_df['genres'] = final_df.apply(merge_genres, axis=1)"
   ]
  },
  {
   "cell_type": "markdown",
   "metadata": {},
   "source": [
    "drop toutes les colonnes inutiles pour le model"
   ]
  },
  {
   "cell_type": "code",
   "execution_count": 201,
   "metadata": {},
   "outputs": [],
   "source": [
    "final_df.drop(columns=[\"primaryTitle\", \"originalTitle\", \"genres_x\", \"genres_y\", \"startYear\"], inplace=True)"
   ]
  },
  {
   "cell_type": "markdown",
   "metadata": {},
   "source": [
    "ceux qui n'avaient pas de type dans imdb sont forcément des films vu qu'ils sont dans movie lens"
   ]
  },
  {
   "cell_type": "code",
   "execution_count": 202,
   "metadata": {},
   "outputs": [],
   "source": [
    "final_df[\"titleType\"] = final_df[\"titleType\"].fillna(\"movie\")"
   ]
  },
  {
   "cell_type": "code",
   "execution_count": 6,
   "metadata": {},
   "outputs": [],
   "source": [
    "genres = set(\"|\".join(final_df['genres'].unique()).split('|'))\n",
    "for genre in genres:\n",
    "    final_df[genre] = final_df['genres'].apply(lambda x: 1 if genre in x.split('|') else 0)\n",
    "final_df[\"titleType\"] = final_df[\"titleType\"].apply(lambda x: 1 if x == \"movie\" else 0)"
   ]
  },
  {
   "cell_type": "markdown",
   "metadata": {},
   "source": [
    "On remplit les averageRating avec ceux qu'on a dans MovieLens"
   ]
  },
  {
   "cell_type": "code",
   "execution_count": 26,
   "metadata": {},
   "outputs": [],
   "source": [
    "for id in final_df[final_df[\"averageRating\"].isna()][\"movie_id\"].unique():\n",
    "    r_list = ratings[ratings[\"movie_id\"] == id]\n",
    "    if len(r_list) == 0:\n",
    "        final_df.loc[final_df[\"movie_id\"] == id, [\"numVotes\"]] = [0]\n",
    "    else:\n",
    "        final_df.loc[final_df[\"movie_id\"] == id, [\"averageRating\",\"numVotes\"]] = [r_list[\"rating\"].values.mean(), len(r_list)]"
   ]
  },
  {
   "cell_type": "code",
   "execution_count": 206,
   "metadata": {},
   "outputs": [],
   "source": [
    "final_df.to_csv(\"dataset.csv\", index=False)"
   ]
  },
  {
   "cell_type": "code",
   "execution_count": 4,
   "metadata": {},
   "outputs": [],
   "source": [
    "df = pd.read_csv(\"dataset.csv\")"
   ]
  },
  {
   "cell_type": "code",
   "execution_count": 5,
   "metadata": {},
   "outputs": [],
   "source": [
    "# df.drop(columns=\"startYear\", inplace=True)\n",
    "ratings"
   ]
  },
  {
   "cell_type": "code",
   "execution_count": 112,
   "metadata": {},
   "outputs": [
    {
     "data": {
      "text/html": [
       "<div>\n",
       "<style scoped>\n",
       "    .dataframe tbody tr th:only-of-type {\n",
       "        vertical-align: middle;\n",
       "    }\n",
       "\n",
       "    .dataframe tbody tr th {\n",
       "        vertical-align: top;\n",
       "    }\n",
       "\n",
       "    .dataframe thead th {\n",
       "        text-align: right;\n",
       "    }\n",
       "</style>\n",
       "<table border=\"1\" class=\"dataframe\">\n",
       "  <thead>\n",
       "    <tr style=\"text-align: right;\">\n",
       "      <th>user_id</th>\n",
       "      <th>1</th>\n",
       "      <th>2</th>\n",
       "      <th>3</th>\n",
       "      <th>4</th>\n",
       "      <th>5</th>\n",
       "      <th>6</th>\n",
       "      <th>7</th>\n",
       "      <th>8</th>\n",
       "      <th>9</th>\n",
       "      <th>10</th>\n",
       "      <th>...</th>\n",
       "      <th>6031</th>\n",
       "      <th>6032</th>\n",
       "      <th>6033</th>\n",
       "      <th>6034</th>\n",
       "      <th>6035</th>\n",
       "      <th>6036</th>\n",
       "      <th>6037</th>\n",
       "      <th>6038</th>\n",
       "      <th>6039</th>\n",
       "      <th>6040</th>\n",
       "    </tr>\n",
       "    <tr>\n",
       "      <th>movie_id</th>\n",
       "      <th></th>\n",
       "      <th></th>\n",
       "      <th></th>\n",
       "      <th></th>\n",
       "      <th></th>\n",
       "      <th></th>\n",
       "      <th></th>\n",
       "      <th></th>\n",
       "      <th></th>\n",
       "      <th></th>\n",
       "      <th></th>\n",
       "      <th></th>\n",
       "      <th></th>\n",
       "      <th></th>\n",
       "      <th></th>\n",
       "      <th></th>\n",
       "      <th></th>\n",
       "      <th></th>\n",
       "      <th></th>\n",
       "      <th></th>\n",
       "      <th></th>\n",
       "    </tr>\n",
       "  </thead>\n",
       "  <tbody>\n",
       "    <tr>\n",
       "      <th>1</th>\n",
       "      <td>5.0</td>\n",
       "      <td>0.0</td>\n",
       "      <td>0.0</td>\n",
       "      <td>0.0</td>\n",
       "      <td>0.0</td>\n",
       "      <td>4.0</td>\n",
       "      <td>0.0</td>\n",
       "      <td>4.0</td>\n",
       "      <td>5.0</td>\n",
       "      <td>5.0</td>\n",
       "      <td>...</td>\n",
       "      <td>0.0</td>\n",
       "      <td>4.0</td>\n",
       "      <td>0.0</td>\n",
       "      <td>0.0</td>\n",
       "      <td>4.0</td>\n",
       "      <td>0.0</td>\n",
       "      <td>0.0</td>\n",
       "      <td>0.0</td>\n",
       "      <td>0.0</td>\n",
       "      <td>3.0</td>\n",
       "    </tr>\n",
       "    <tr>\n",
       "      <th>2</th>\n",
       "      <td>0.0</td>\n",
       "      <td>0.0</td>\n",
       "      <td>0.0</td>\n",
       "      <td>0.0</td>\n",
       "      <td>0.0</td>\n",
       "      <td>0.0</td>\n",
       "      <td>0.0</td>\n",
       "      <td>0.0</td>\n",
       "      <td>0.0</td>\n",
       "      <td>5.0</td>\n",
       "      <td>...</td>\n",
       "      <td>0.0</td>\n",
       "      <td>0.0</td>\n",
       "      <td>0.0</td>\n",
       "      <td>0.0</td>\n",
       "      <td>0.0</td>\n",
       "      <td>0.0</td>\n",
       "      <td>0.0</td>\n",
       "      <td>0.0</td>\n",
       "      <td>0.0</td>\n",
       "      <td>0.0</td>\n",
       "    </tr>\n",
       "    <tr>\n",
       "      <th>3</th>\n",
       "      <td>0.0</td>\n",
       "      <td>0.0</td>\n",
       "      <td>0.0</td>\n",
       "      <td>0.0</td>\n",
       "      <td>0.0</td>\n",
       "      <td>0.0</td>\n",
       "      <td>0.0</td>\n",
       "      <td>0.0</td>\n",
       "      <td>0.0</td>\n",
       "      <td>0.0</td>\n",
       "      <td>...</td>\n",
       "      <td>0.0</td>\n",
       "      <td>0.0</td>\n",
       "      <td>0.0</td>\n",
       "      <td>0.0</td>\n",
       "      <td>1.0</td>\n",
       "      <td>0.0</td>\n",
       "      <td>0.0</td>\n",
       "      <td>0.0</td>\n",
       "      <td>0.0</td>\n",
       "      <td>0.0</td>\n",
       "    </tr>\n",
       "    <tr>\n",
       "      <th>4</th>\n",
       "      <td>0.0</td>\n",
       "      <td>0.0</td>\n",
       "      <td>0.0</td>\n",
       "      <td>0.0</td>\n",
       "      <td>0.0</td>\n",
       "      <td>0.0</td>\n",
       "      <td>0.0</td>\n",
       "      <td>3.0</td>\n",
       "      <td>0.0</td>\n",
       "      <td>0.0</td>\n",
       "      <td>...</td>\n",
       "      <td>0.0</td>\n",
       "      <td>0.0</td>\n",
       "      <td>0.0</td>\n",
       "      <td>0.0</td>\n",
       "      <td>2.0</td>\n",
       "      <td>2.0</td>\n",
       "      <td>0.0</td>\n",
       "      <td>0.0</td>\n",
       "      <td>0.0</td>\n",
       "      <td>0.0</td>\n",
       "    </tr>\n",
       "    <tr>\n",
       "      <th>5</th>\n",
       "      <td>0.0</td>\n",
       "      <td>0.0</td>\n",
       "      <td>0.0</td>\n",
       "      <td>0.0</td>\n",
       "      <td>0.0</td>\n",
       "      <td>0.0</td>\n",
       "      <td>0.0</td>\n",
       "      <td>0.0</td>\n",
       "      <td>0.0</td>\n",
       "      <td>0.0</td>\n",
       "      <td>...</td>\n",
       "      <td>0.0</td>\n",
       "      <td>0.0</td>\n",
       "      <td>0.0</td>\n",
       "      <td>0.0</td>\n",
       "      <td>1.0</td>\n",
       "      <td>0.0</td>\n",
       "      <td>0.0</td>\n",
       "      <td>0.0</td>\n",
       "      <td>0.0</td>\n",
       "      <td>0.0</td>\n",
       "    </tr>\n",
       "    <tr>\n",
       "      <th>...</th>\n",
       "      <td>...</td>\n",
       "      <td>...</td>\n",
       "      <td>...</td>\n",
       "      <td>...</td>\n",
       "      <td>...</td>\n",
       "      <td>...</td>\n",
       "      <td>...</td>\n",
       "      <td>...</td>\n",
       "      <td>...</td>\n",
       "      <td>...</td>\n",
       "      <td>...</td>\n",
       "      <td>...</td>\n",
       "      <td>...</td>\n",
       "      <td>...</td>\n",
       "      <td>...</td>\n",
       "      <td>...</td>\n",
       "      <td>...</td>\n",
       "      <td>...</td>\n",
       "      <td>...</td>\n",
       "      <td>...</td>\n",
       "      <td>...</td>\n",
       "    </tr>\n",
       "    <tr>\n",
       "      <th>3948</th>\n",
       "      <td>0.0</td>\n",
       "      <td>0.0</td>\n",
       "      <td>0.0</td>\n",
       "      <td>0.0</td>\n",
       "      <td>0.0</td>\n",
       "      <td>0.0</td>\n",
       "      <td>0.0</td>\n",
       "      <td>0.0</td>\n",
       "      <td>3.0</td>\n",
       "      <td>4.0</td>\n",
       "      <td>...</td>\n",
       "      <td>0.0</td>\n",
       "      <td>0.0</td>\n",
       "      <td>0.0</td>\n",
       "      <td>0.0</td>\n",
       "      <td>0.0</td>\n",
       "      <td>0.0</td>\n",
       "      <td>0.0</td>\n",
       "      <td>0.0</td>\n",
       "      <td>0.0</td>\n",
       "      <td>0.0</td>\n",
       "    </tr>\n",
       "    <tr>\n",
       "      <th>3949</th>\n",
       "      <td>0.0</td>\n",
       "      <td>0.0</td>\n",
       "      <td>0.0</td>\n",
       "      <td>0.0</td>\n",
       "      <td>0.0</td>\n",
       "      <td>0.0</td>\n",
       "      <td>0.0</td>\n",
       "      <td>0.0</td>\n",
       "      <td>0.0</td>\n",
       "      <td>0.0</td>\n",
       "      <td>...</td>\n",
       "      <td>0.0</td>\n",
       "      <td>0.0</td>\n",
       "      <td>0.0</td>\n",
       "      <td>0.0</td>\n",
       "      <td>0.0</td>\n",
       "      <td>0.0</td>\n",
       "      <td>0.0</td>\n",
       "      <td>0.0</td>\n",
       "      <td>0.0</td>\n",
       "      <td>0.0</td>\n",
       "    </tr>\n",
       "    <tr>\n",
       "      <th>3950</th>\n",
       "      <td>0.0</td>\n",
       "      <td>0.0</td>\n",
       "      <td>0.0</td>\n",
       "      <td>0.0</td>\n",
       "      <td>0.0</td>\n",
       "      <td>0.0</td>\n",
       "      <td>0.0</td>\n",
       "      <td>0.0</td>\n",
       "      <td>0.0</td>\n",
       "      <td>0.0</td>\n",
       "      <td>...</td>\n",
       "      <td>0.0</td>\n",
       "      <td>0.0</td>\n",
       "      <td>0.0</td>\n",
       "      <td>0.0</td>\n",
       "      <td>0.0</td>\n",
       "      <td>0.0</td>\n",
       "      <td>0.0</td>\n",
       "      <td>0.0</td>\n",
       "      <td>0.0</td>\n",
       "      <td>0.0</td>\n",
       "    </tr>\n",
       "    <tr>\n",
       "      <th>3951</th>\n",
       "      <td>0.0</td>\n",
       "      <td>0.0</td>\n",
       "      <td>0.0</td>\n",
       "      <td>0.0</td>\n",
       "      <td>0.0</td>\n",
       "      <td>0.0</td>\n",
       "      <td>0.0</td>\n",
       "      <td>0.0</td>\n",
       "      <td>0.0</td>\n",
       "      <td>0.0</td>\n",
       "      <td>...</td>\n",
       "      <td>0.0</td>\n",
       "      <td>0.0</td>\n",
       "      <td>0.0</td>\n",
       "      <td>0.0</td>\n",
       "      <td>0.0</td>\n",
       "      <td>0.0</td>\n",
       "      <td>0.0</td>\n",
       "      <td>0.0</td>\n",
       "      <td>0.0</td>\n",
       "      <td>0.0</td>\n",
       "    </tr>\n",
       "    <tr>\n",
       "      <th>3952</th>\n",
       "      <td>0.0</td>\n",
       "      <td>0.0</td>\n",
       "      <td>0.0</td>\n",
       "      <td>0.0</td>\n",
       "      <td>0.0</td>\n",
       "      <td>0.0</td>\n",
       "      <td>0.0</td>\n",
       "      <td>0.0</td>\n",
       "      <td>0.0</td>\n",
       "      <td>0.0</td>\n",
       "      <td>...</td>\n",
       "      <td>0.0</td>\n",
       "      <td>0.0</td>\n",
       "      <td>0.0</td>\n",
       "      <td>0.0</td>\n",
       "      <td>0.0</td>\n",
       "      <td>0.0</td>\n",
       "      <td>0.0</td>\n",
       "      <td>0.0</td>\n",
       "      <td>0.0</td>\n",
       "      <td>0.0</td>\n",
       "    </tr>\n",
       "  </tbody>\n",
       "</table>\n",
       "<p>3706 rows × 6040 columns</p>\n",
       "</div>"
      ],
      "text/plain": [
       "user_id   1     2     3     4     5     6     7     8     9     10    ...  \\\n",
       "movie_id                                                              ...   \n",
       "1          5.0   0.0   0.0   0.0   0.0   4.0   0.0   4.0   5.0   5.0  ...   \n",
       "2          0.0   0.0   0.0   0.0   0.0   0.0   0.0   0.0   0.0   5.0  ...   \n",
       "3          0.0   0.0   0.0   0.0   0.0   0.0   0.0   0.0   0.0   0.0  ...   \n",
       "4          0.0   0.0   0.0   0.0   0.0   0.0   0.0   3.0   0.0   0.0  ...   \n",
       "5          0.0   0.0   0.0   0.0   0.0   0.0   0.0   0.0   0.0   0.0  ...   \n",
       "...        ...   ...   ...   ...   ...   ...   ...   ...   ...   ...  ...   \n",
       "3948       0.0   0.0   0.0   0.0   0.0   0.0   0.0   0.0   3.0   4.0  ...   \n",
       "3949       0.0   0.0   0.0   0.0   0.0   0.0   0.0   0.0   0.0   0.0  ...   \n",
       "3950       0.0   0.0   0.0   0.0   0.0   0.0   0.0   0.0   0.0   0.0  ...   \n",
       "3951       0.0   0.0   0.0   0.0   0.0   0.0   0.0   0.0   0.0   0.0  ...   \n",
       "3952       0.0   0.0   0.0   0.0   0.0   0.0   0.0   0.0   0.0   0.0  ...   \n",
       "\n",
       "user_id   6031  6032  6033  6034  6035  6036  6037  6038  6039  6040  \n",
       "movie_id                                                              \n",
       "1          0.0   4.0   0.0   0.0   4.0   0.0   0.0   0.0   0.0   3.0  \n",
       "2          0.0   0.0   0.0   0.0   0.0   0.0   0.0   0.0   0.0   0.0  \n",
       "3          0.0   0.0   0.0   0.0   1.0   0.0   0.0   0.0   0.0   0.0  \n",
       "4          0.0   0.0   0.0   0.0   2.0   2.0   0.0   0.0   0.0   0.0  \n",
       "5          0.0   0.0   0.0   0.0   1.0   0.0   0.0   0.0   0.0   0.0  \n",
       "...        ...   ...   ...   ...   ...   ...   ...   ...   ...   ...  \n",
       "3948       0.0   0.0   0.0   0.0   0.0   0.0   0.0   0.0   0.0   0.0  \n",
       "3949       0.0   0.0   0.0   0.0   0.0   0.0   0.0   0.0   0.0   0.0  \n",
       "3950       0.0   0.0   0.0   0.0   0.0   0.0   0.0   0.0   0.0   0.0  \n",
       "3951       0.0   0.0   0.0   0.0   0.0   0.0   0.0   0.0   0.0   0.0  \n",
       "3952       0.0   0.0   0.0   0.0   0.0   0.0   0.0   0.0   0.0   0.0  \n",
       "\n",
       "[3706 rows x 6040 columns]"
      ]
     },
     "execution_count": 112,
     "metadata": {},
     "output_type": "execute_result"
    }
   ],
   "source": [
    "Y = ratings.pivot(index='movie_id', columns='user_id', values='rating')\n",
    "Y = Y.fillna(0)\n",
    "Y"
   ]
  },
  {
   "cell_type": "code",
   "execution_count": 91,
   "metadata": {},
   "outputs": [],
   "source": [
    "genres = set(\"|\".join(df['genres'].unique()).split('|'))\n",
    "for genre in genres:\n",
    "    users[genre] = 0\n",
    "# Ajouter la colonne 'nrating'\n",
    "users['nrating'] = 0\n"
   ]
  },
  {
   "cell_type": "markdown",
   "metadata": {},
   "source": [
    "Crée un dataframe users avec le rating moyen pour chaque genre de film"
   ]
  },
  {
   "cell_type": "code",
   "execution_count": 107,
   "metadata": {},
   "outputs": [
    {
     "name": "stdout",
     "output_type": "stream",
     "text": [
      "      user_id  sex  age_group  occupation  Thriller   Fantasy   Musical  \\\n",
      "0           1    0          1          10  3.666667  4.100000  4.285714   \n",
      "1           2    1         56          16  3.511628  3.625000  0.000000   \n",
      "2           3    1         25          15  3.714286  3.428571  4.000000   \n",
      "3           4    1         45           7  4.000000  3.500000  0.000000   \n",
      "4           5    1         25          20  2.782609  3.266667  3.333333   \n",
      "...       ...  ...        ...         ...       ...       ...       ...   \n",
      "6035     6036    0         25          15  3.196721  3.135135  3.687500   \n",
      "6036     6037    0         45           1  3.675676  3.800000  4.000000   \n",
      "6037     6038    0         56           1  2.000000  4.000000  0.000000   \n",
      "6038     6039    0         45           0  4.133333  3.733333  3.690476   \n",
      "6039     6040    1         25           6  3.636364  2.807692  4.000000   \n",
      "\n",
      "       History    Sci-Fi   Mystery  ...     Drama    Horror     Sport  \\\n",
      "0     5.000000  4.333333  4.000000  ...  4.290323  0.000000  0.000000   \n",
      "1     3.666667  3.588235  3.125000  ...  3.817204  3.000000  4.750000   \n",
      "2     0.000000  4.000000  3.000000  ...  3.894737  2.666667  4.500000   \n",
      "3     0.000000  3.555556  5.000000  ...  4.250000  3.500000  5.000000   \n",
      "4     3.285714  3.176471  3.111111  ...  3.090909  2.857143  0.000000   \n",
      "...        ...       ...       ...  ...       ...       ...       ...   \n",
      "6035  3.500000  2.875000  3.211765  ...  3.474359  2.933333  3.384615   \n",
      "6036  3.714286  3.714286  3.696970  ...  3.771429  4.000000  4.000000   \n",
      "6037  0.000000  4.000000  2.000000  ...  4.000000  2.500000  0.000000   \n",
      "6038  4.500000  4.250000  4.157895  ...  3.887097  4.000000  0.000000   \n",
      "6039  3.200000  3.365854  3.888889  ...  3.804255  2.720000  2.875000   \n",
      "\n",
      "           War    Action  Animation   Western  Documentary     Crime  nrating  \n",
      "0     5.000000  4.166667   4.111111  0.000000     0.000000  4.000000       53  \n",
      "1     3.750000  3.483871   0.000000  4.333333     0.000000  3.379310      129  \n",
      "2     4.000000  4.000000   4.000000  4.666667     0.000000  4.000000       51  \n",
      "3     3.333333  4.157895   0.000000  4.500000     0.000000  4.500000       21  \n",
      "4     3.142857  2.710526   4.000000  3.000000     3.666667  3.205128      198  \n",
      "...        ...       ...        ...       ...          ...       ...      ...  \n",
      "6035  3.755102  2.936842   3.916667  3.764706     3.909091  3.376923      888  \n",
      "6036  4.000000  3.575758   4.000000  3.750000     4.000000  3.627907      202  \n",
      "6037  4.000000  3.000000   3.666667  0.000000     0.000000  4.000000       20  \n",
      "6038  4.111111  3.800000   3.615385  4.000000     0.000000  4.066667      123  \n",
      "6039  3.625000  3.000000   3.000000  4.250000     4.500000  3.745763      341  \n",
      "\n",
      "[6040 rows x 27 columns]\n"
     ]
    }
   ],
   "source": [
    "# Fusionner les évaluations avec les genres\n",
    "all_genres = set(\"|\".join(df['genres'].unique()).split('|'))\n",
    "merged_df = ratings.merge(df, on='movie_id', how=\"left\")\n",
    "users_df = users.copy().reset_index()\n",
    "\n",
    "# Initialiser un dictionnaire pour stocker les sommes et les comptes des genres\n",
    "genre_sum_count = {genre: {'sum': {}, 'count': {}} for genre in all_genres}\n",
    "\n",
    "# Parcourir les lignes de merged_df pour calculer les sommes et les comptes\n",
    "for _, row in merged_df.iterrows():\n",
    "    user_id = row['user_id']\n",
    "    rating = row['rating']\n",
    "    genres = row['genres'].split('|')\n",
    "    \n",
    "    users_df.loc[users_df['user_id'] == user_id, 'nrating'] += 1\n",
    "    \n",
    "    for genre in genres:\n",
    "        if user_id in genre_sum_count[genre]['sum']:\n",
    "            genre_sum_count[genre]['sum'][user_id] += rating\n",
    "            genre_sum_count[genre]['count'][user_id] += 1\n",
    "        else:\n",
    "            genre_sum_count[genre]['sum'][user_id] = rating\n",
    "            genre_sum_count[genre]['count'][user_id] = 1\n",
    "\n",
    "# Calculer les moyennes pour chaque genre et mettre à jour users_df\n",
    "for genre in all_genres:\n",
    "    for user_id in genre_sum_count[genre]['sum']:\n",
    "        users_df.loc[users_df['user_id'] == user_id, genre] = (\n",
    "            genre_sum_count[genre]['sum'][user_id] / genre_sum_count[genre]['count'][user_id]\n",
    "        )\n",
    "\n",
    "users_df.head()\n"
   ]
  },
  {
   "cell_type": "markdown",
   "metadata": {},
   "source": [
    "split le dataset en train et test"
   ]
  },
  {
   "cell_type": "code",
   "execution_count": 195,
   "metadata": {},
   "outputs": [],
   "source": [
    "movies = df.drop(columns=[\"title\", \"genres\"]).copy()\n",
    "\n",
    "user_train, user_test = train_test_split(users_df, test_size=0.2, random_state=42)\n",
    "\n",
    "movie_train, movie_test = train_test_split(movies, test_size=0.2, random_state=42)"
   ]
  },
  {
   "cell_type": "code",
   "execution_count": 225,
   "metadata": {},
   "outputs": [],
   "source": [
    "y_train = ratings.pivot(index='movie_id', columns='user_id', values='rating').fillna(0)\n"
   ]
  },
  {
   "cell_type": "code",
   "execution_count": 231,
   "metadata": {},
   "outputs": [],
   "source": [
    "scaler = StandardScaler()\n",
    "\n",
    "user_train = transforme(users_df, \"user_id\", scaler)\n",
    "\n",
    "movie_train = transforme(movies, \"movie_id\", scaler)"
   ]
  },
  {
   "cell_type": "code",
   "execution_count": 217,
   "metadata": {},
   "outputs": [],
   "source": [
    "movies_c = movies[movies['movie_id'].isin(y_train.index)].copy()"
   ]
  },
  {
   "cell_type": "code",
   "execution_count": 196,
   "metadata": {},
   "outputs": [],
   "source": [
    "user_id_train = np.array(user_train[\"user_id\"])\n",
    "movie_id_train = np.array(movie_train[\"movie_id\"])\n",
    "\n",
    "user_id_test = np.array(user_test[\"user_id\"])\n",
    "movie_id_test = np.array(movie_test[\"movie_id\"])\n",
    "\n",
    "ratings_train = ratings[ratings['user_id'].isin(user_id_train)].copy()\n",
    "ratings_test = ratings[ratings['user_id'].isin(user_id_test)].copy()\n",
    "\n",
    "ratings_train = ratings_train[ratings_train['movie_id'].isin(movie_id_train)]\n",
    "ratings_test = ratings_test[ratings_test['movie_id'].isin(movie_id_test)]\n",
    "\n",
    "# y_train = Y.drop(columns=[user_id_train])"
   ]
  },
  {
   "cell_type": "code",
   "execution_count": 197,
   "metadata": {},
   "outputs": [],
   "source": [
    "y_train = ratings_train.pivot(index='movie_id', columns='user_id', values='rating')\n",
    "y_train = y_train.fillna(0)\n",
    "\n",
    "y_test = ratings_test.pivot(index='movie_id', columns='user_id', values='rating')\n",
    "y_test = y_test.fillna(0)\n"
   ]
  },
  {
   "cell_type": "code",
   "execution_count": 198,
   "metadata": {},
   "outputs": [],
   "source": [
    "def transforme(df, column, trans):\n",
    "    df.set_index(column, inplace=True)\n",
    "    return trans.fit_transform(df)\n",
    "\n",
    "def getR(Y):\n",
    "    R = Y.copy()\n",
    "    R[R != 0] = 1\n",
    "    return R"
   ]
  },
  {
   "cell_type": "code",
   "execution_count": 199,
   "metadata": {},
   "outputs": [],
   "source": [
    "scaler = StandardScaler()\n",
    "\n",
    "user_train = transforme(user_train, \"user_id\", scaler)\n",
    "user_test = transforme(user_test, \"user_id\", scaler)\n",
    "\n",
    "movie_train = transforme(movie_train, \"movie_id\", scaler)\n",
    "movie_test = transforme(movie_test, \"movie_id\", scaler)"
   ]
  },
  {
   "cell_type": "code",
   "execution_count": 202,
   "metadata": {},
   "outputs": [],
   "source": [
    "scalerY = MinMaxScaler((-1,1))\n",
    "\n",
    "R_train = getR(y_train)\n",
    "R_test = getR(y_test)\n",
    "\n",
    "y_train = np.array(y_train)\n",
    "y_test = np.array(y_test)\n",
    "\n",
    "y_train = scalerY.fit_transform(y_train.reshape(-1, 1))\n",
    "y_test = scalerY.fit_transform(y_test.reshape(-1, 1))"
   ]
  },
  {
   "cell_type": "code",
   "execution_count": 203,
   "metadata": {},
   "outputs": [],
   "source": [
    "num_user_features = user_train.shape[1]\n",
    "num_item_features = movie_train.shape[1]"
   ]
  },
  {
   "cell_type": "code",
   "execution_count": 204,
   "metadata": {},
   "outputs": [
    {
     "name": "stdout",
     "output_type": "stream",
     "text": [
      "Model: \"model_4\"\n",
      "__________________________________________________________________________________________________\n",
      " Layer (type)                   Output Shape         Param #     Connected to                     \n",
      "==================================================================================================\n",
      " input_9 (InputLayer)           [(None, 26)]         0           []                               \n",
      "                                                                                                  \n",
      " input_10 (InputLayer)          [(None, 28)]         0           []                               \n",
      "                                                                                                  \n",
      " sequential_10 (Sequential)     (None, 32)           43936       ['input_9[0][0]']                \n",
      "                                                                                                  \n",
      " sequential_11 (Sequential)     (None, 32)           44448       ['input_10[0][0]']               \n",
      "                                                                                                  \n",
      " tf.math.l2_normalize_6 (TFOpLa  (None, 32)          0           ['sequential_10[0][0]']          \n",
      " mbda)                                                                                            \n",
      "                                                                                                  \n",
      " tf.math.l2_normalize_7 (TFOpLa  (None, 32)          0           ['sequential_11[0][0]']          \n",
      " mbda)                                                                                            \n",
      "                                                                                                  \n",
      " dot_4 (Dot)                    (None, 1)            0           ['tf.math.l2_normalize_6[0][0]', \n",
      "                                                                  'tf.math.l2_normalize_7[0][0]'] \n",
      "                                                                                                  \n",
      "==================================================================================================\n",
      "Total params: 88,384\n",
      "Trainable params: 88,384\n",
      "Non-trainable params: 0\n",
      "__________________________________________________________________________________________________\n"
     ]
    }
   ],
   "source": [
    "num_outputs = 32\n",
    "tf.random.set_seed(1)\n",
    "user_NN = tf.keras.models.Sequential(\n",
    "    [\n",
    "        ### START CODE HERE ###\n",
    "        tf.keras.layers.Dense(256, activation=\"relu\"),\n",
    "        tf.keras.layers.Dense(128, activation=\"relu\"),\n",
    "        tf.keras.layers.Dense(num_outputs),\n",
    "        ### END CODE HERE ###\n",
    "    ]\n",
    ")\n",
    "\n",
    "item_NN = tf.keras.models.Sequential(\n",
    "    [\n",
    "        ### START CODE HERE ###\n",
    "        tf.keras.layers.Dense(256, activation=\"relu\"),\n",
    "        tf.keras.layers.Dense(128, activation=\"relu\"),\n",
    "        tf.keras.layers.Dense(num_outputs),\n",
    "        ### END CODE HERE ###\n",
    "    ]\n",
    ")\n",
    "\n",
    "# create the user input and point to the base network\n",
    "input_user = tf.keras.layers.Input(shape=(num_user_features))\n",
    "vu = user_NN(input_user)\n",
    "vu = tf.linalg.l2_normalize(vu, axis=1)\n",
    "\n",
    "# create the item input and point to the base network\n",
    "input_item = tf.keras.layers.Input(shape=(num_item_features))\n",
    "vm = item_NN(input_item)\n",
    "vm = tf.linalg.l2_normalize(vm, axis=1)\n",
    "\n",
    "# compute the dot product of the two vectors vu and vm\n",
    "output = tf.keras.layers.Dot(axes=1)([vu, vm])\n",
    "\n",
    "# specify the inputs and output of the model\n",
    "model = tf.keras.Model([input_user, input_item], output)\n",
    "\n",
    "model.summary()"
   ]
  },
  {
   "cell_type": "code",
   "execution_count": 205,
   "metadata": {},
   "outputs": [],
   "source": [
    "tf.random.set_seed(1)\n",
    "cost_fn = tf.keras.losses.MeanSquaredError()\n",
    "opt = keras.optimizers.Adam(learning_rate=0.01)\n",
    "model.compile(optimizer=opt, loss=cost_fn)"
   ]
  },
  {
   "cell_type": "code",
   "execution_count": 206,
   "metadata": {},
   "outputs": [
    {
     "data": {
      "text/plain": [
       "(4832, 26)"
      ]
     },
     "execution_count": 206,
     "metadata": {},
     "output_type": "execute_result"
    }
   ],
   "source": [
    "user_train.shape"
   ]
  },
  {
   "cell_type": "code",
   "execution_count": 207,
   "metadata": {},
   "outputs": [
    {
     "ename": "ValueError",
     "evalue": "Data cardinality is ambiguous:\n  x sizes: 4832, 3106\n  y sizes: 14254400\nMake sure all arrays contain the same number of samples.",
     "output_type": "error",
     "traceback": [
      "\u001b[1;31m---------------------------------------------------------------------------\u001b[0m",
      "\u001b[1;31mValueError\u001b[0m                                Traceback (most recent call last)",
      "Cell \u001b[1;32mIn[207], line 2\u001b[0m\n\u001b[0;32m      1\u001b[0m tf\u001b[38;5;241m.\u001b[39mrandom\u001b[38;5;241m.\u001b[39mset_seed(\u001b[38;5;241m1\u001b[39m)\n\u001b[1;32m----> 2\u001b[0m \u001b[43mmodel\u001b[49m\u001b[38;5;241;43m.\u001b[39;49m\u001b[43mfit\u001b[49m\u001b[43m(\u001b[49m\n\u001b[0;32m      3\u001b[0m \u001b[43m    \u001b[49m\u001b[43m[\u001b[49m\u001b[43muser_train\u001b[49m\u001b[43m,\u001b[49m\u001b[43m \u001b[49m\u001b[43mmovie_train\u001b[49m\u001b[43m]\u001b[49m\u001b[43m,\u001b[49m\n\u001b[0;32m      4\u001b[0m \u001b[43m    \u001b[49m\u001b[43my_train\u001b[49m\u001b[43m,\u001b[49m\n\u001b[0;32m      5\u001b[0m \u001b[43m    \u001b[49m\u001b[43mepochs\u001b[49m\u001b[38;5;241;43m=\u001b[39;49m\u001b[38;5;241;43m2\u001b[39;49m\u001b[43m,\u001b[49m\n\u001b[0;32m      6\u001b[0m \u001b[43m    \u001b[49m\u001b[43mvalidation_data\u001b[49m\u001b[38;5;241;43m=\u001b[39;49m\u001b[43m(\u001b[49m\u001b[43m[\u001b[49m\u001b[43muser_test\u001b[49m\u001b[43m,\u001b[49m\u001b[43m \u001b[49m\u001b[43mmovie_test\u001b[49m\u001b[43m]\u001b[49m\u001b[43m,\u001b[49m\u001b[43m \u001b[49m\u001b[43my_test\u001b[49m\u001b[43m)\u001b[49m\u001b[43m,\u001b[49m\n\u001b[0;32m      7\u001b[0m \u001b[43m)\u001b[49m\n",
      "File \u001b[1;32mc:\\Users\\gatig\\anaconda3\\envs\\rsys\\lib\\site-packages\\keras\\utils\\traceback_utils.py:67\u001b[0m, in \u001b[0;36mfilter_traceback.<locals>.error_handler\u001b[1;34m(*args, **kwargs)\u001b[0m\n\u001b[0;32m     65\u001b[0m \u001b[38;5;28;01mexcept\u001b[39;00m \u001b[38;5;167;01mException\u001b[39;00m \u001b[38;5;28;01mas\u001b[39;00m e:  \u001b[38;5;66;03m# pylint: disable=broad-except\u001b[39;00m\n\u001b[0;32m     66\u001b[0m   filtered_tb \u001b[38;5;241m=\u001b[39m _process_traceback_frames(e\u001b[38;5;241m.\u001b[39m__traceback__)\n\u001b[1;32m---> 67\u001b[0m   \u001b[38;5;28;01mraise\u001b[39;00m e\u001b[38;5;241m.\u001b[39mwith_traceback(filtered_tb) \u001b[38;5;28;01mfrom\u001b[39;00m \u001b[38;5;28;01mNone\u001b[39;00m\n\u001b[0;32m     68\u001b[0m \u001b[38;5;28;01mfinally\u001b[39;00m:\n\u001b[0;32m     69\u001b[0m   \u001b[38;5;28;01mdel\u001b[39;00m filtered_tb\n",
      "File \u001b[1;32mc:\\Users\\gatig\\anaconda3\\envs\\rsys\\lib\\site-packages\\keras\\engine\\data_adapter.py:1655\u001b[0m, in \u001b[0;36m_check_data_cardinality\u001b[1;34m(data)\u001b[0m\n\u001b[0;32m   1651\u001b[0m   msg \u001b[38;5;241m+\u001b[39m\u001b[38;5;241m=\u001b[39m \u001b[38;5;124m\"\u001b[39m\u001b[38;5;124m  \u001b[39m\u001b[38;5;132;01m{}\u001b[39;00m\u001b[38;5;124m sizes: \u001b[39m\u001b[38;5;132;01m{}\u001b[39;00m\u001b[38;5;130;01m\\n\u001b[39;00m\u001b[38;5;124m\"\u001b[39m\u001b[38;5;241m.\u001b[39mformat(\n\u001b[0;32m   1652\u001b[0m       label, \u001b[38;5;124m\"\u001b[39m\u001b[38;5;124m, \u001b[39m\u001b[38;5;124m\"\u001b[39m\u001b[38;5;241m.\u001b[39mjoin(\u001b[38;5;28mstr\u001b[39m(i\u001b[38;5;241m.\u001b[39mshape[\u001b[38;5;241m0\u001b[39m])\n\u001b[0;32m   1653\u001b[0m                        \u001b[38;5;28;01mfor\u001b[39;00m i \u001b[38;5;129;01min\u001b[39;00m tf\u001b[38;5;241m.\u001b[39mnest\u001b[38;5;241m.\u001b[39mflatten(single_data)))\n\u001b[0;32m   1654\u001b[0m msg \u001b[38;5;241m+\u001b[39m\u001b[38;5;241m=\u001b[39m \u001b[38;5;124m\"\u001b[39m\u001b[38;5;124mMake sure all arrays contain the same number of samples.\u001b[39m\u001b[38;5;124m\"\u001b[39m\n\u001b[1;32m-> 1655\u001b[0m \u001b[38;5;28;01mraise\u001b[39;00m \u001b[38;5;167;01mValueError\u001b[39;00m(msg)\n",
      "\u001b[1;31mValueError\u001b[0m: Data cardinality is ambiguous:\n  x sizes: 4832, 3106\n  y sizes: 14254400\nMake sure all arrays contain the same number of samples."
     ]
    }
   ],
   "source": [
    "tf.random.set_seed(1)\n",
    "model.fit(\n",
    "    [user_train, movie_train],\n",
    "    y_train,\n",
    "    epochs=2,\n",
    "    validation_data=([user_test, movie_test], y_test),\n",
    ")"
   ]
  }
 ],
 "metadata": {
  "kernelspec": {
   "display_name": "RSys",
   "language": "python",
   "name": "python3"
  },
  "language_info": {
   "codemirror_mode": {
    "name": "ipython",
    "version": 3
   },
   "file_extension": ".py",
   "mimetype": "text/x-python",
   "name": "python",
   "nbconvert_exporter": "python",
   "pygments_lexer": "ipython3",
   "version": "3.9.19"
  }
 },
 "nbformat": 4,
 "nbformat_minor": 2
}
