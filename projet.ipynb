{
 "cells": [
  {
   "cell_type": "code",
   "execution_count": 2,
   "metadata": {},
   "outputs": [],
   "source": [
    "import os\n",
    "import math\n",
    "import numpy as np\n",
    "import pandas as pd\n",
    "import re\n",
    "from sklearn.preprocessing import StandardScaler, MinMaxScaler\n",
    "from sklearn.model_selection import train_test_split\n",
    "import tensorflow as tf\n",
    "from tensorflow import keras"
   ]
  },
  {
   "cell_type": "code",
   "execution_count": 3,
   "metadata": {},
   "outputs": [],
   "source": [
    "data_path = 'data/'"
   ]
  },
  {
   "cell_type": "markdown",
   "metadata": {},
   "source": [
    "### Dataset Movie Lens\n",
    "\n",
    "Load dataset from source"
   ]
  },
  {
   "cell_type": "code",
   "execution_count": 4,
   "metadata": {},
   "outputs": [],
   "source": [
    "users = pd.read_csv(\n",
    "    data_path + \"ml-1m/users.dat\",\n",
    "    sep=\"::\",\n",
    "    names=[\"user_id\", \"sex\", \"age_group\", \"occupation\", \"zip_code\"],\n",
    "    engine=\"python\",\n",
    ")\n",
    "\n",
    "ratings = pd.read_csv(\n",
    "    data_path + \"ml-1m/ratings.dat\",\n",
    "    sep=\"::\",\n",
    "    names=[\"user_id\", \"movie_id\", \"rating\", \"unix_timestamp\"],\n",
    "    engine=\"python\",\n",
    ")\n",
    "\n",
    "movies = pd.read_csv(\n",
    "    data_path + \"ml-1m/movies.dat\",\n",
    "    sep=\"::\",\n",
    "    names=[\"movie_id\", \"title\", \"genres\"],\n",
    "    engine=\"python\",\n",
    "    encoding=\"latin-1\",\n",
    ")"
   ]
  },
  {
   "cell_type": "code",
   "execution_count": 5,
   "metadata": {},
   "outputs": [],
   "source": [
    "mv = movies.copy()\n",
    "us = users.copy()\n",
    "rt = ratings.copy()"
   ]
  },
  {
   "cell_type": "code",
   "execution_count": 6,
   "metadata": {},
   "outputs": [],
   "source": [
    "movies = mv.copy()\n",
    "users = us.copy()\n",
    "ratings = rt.copy()\n"
   ]
  },
  {
   "cell_type": "markdown",
   "metadata": {},
   "source": [
    "## Preprocess\n",
    "\n",
    "users:\n",
    "* change la valeur str de la colonne sex en 1 ou 0 pour que le modèle comprenne la colonne\n",
    "* drop la colonne zip_code car peu intéressante pour la tâche\n",
    "\n",
    "movies:\n",
    "* sectionne la partie année des titres pour créer une nouvelle colonne année\n",
    "* supprime la partie (année) des titres pour qu'ils soient possible de les comparer avec le dataset imdb\n",
    "\n",
    "ratings:\n",
    "* passe la colonne rating de str a float\n",
    "* drop la colonne \"unix_timestamp\" car inutile"
   ]
  },
  {
   "cell_type": "code",
   "execution_count": 7,
   "metadata": {},
   "outputs": [],
   "source": [
    "# users[\"user_id\"] = users[\"user_id\"].apply(lambda x: f\"user_{x}\")\n",
    "# users[\"age_group\"] = users[\"age_group\"].apply(lambda x: f\"group_{x}\")\n",
    "# users[\"occupation\"] = users[\"occupation\"].apply(lambda x: f\"occupation_{x}\")\n",
    "\n",
    "users['sex'] = users['sex'].apply(lambda x: 1 if(x == 'M') else 0)\n",
    "users.drop(columns=\"zip_code\", inplace=True)\n",
    "\n",
    "# movies[\"movie_id\"] = movies[\"movie_id\"].apply(lambda x: f\"movie_{x}\")\n",
    "movies[\"year\"] = movies[\"title\"].apply(lambda x : int(x[-5:-1]))\n",
    "movies[\"title\"] = movies[\"title\"].apply(lambda x : x[:-7].lower())\n",
    "\n",
    "# ratings[\"movie_id\"] = ratings[\"movie_id\"].apply(lambda x: f\"movie_{x}\")\n",
    "# ratings[\"user_id\"] = ratings[\"user_id\"].apply(lambda x: f\"user_{x}\")\n",
    "ratings[\"rating\"] = ratings[\"rating\"].apply(lambda x: float(x))\n",
    "\n",
    "ratings.drop(columns=\"unix_timestamp\", inplace=True)\n"
   ]
  },
  {
   "cell_type": "markdown",
   "metadata": {},
   "source": [
    "Certains titres sont sous la forme: \"aaaa, the\" au lieu de \"the aaaa\". Je modifie donc la colonne title avec une regex, du pattern matching avec groupe, pour résoudre ce problème.\n",
    "Après résolution du problème les titres pourront être comparé avec ceux de imdb."
   ]
  },
  {
   "cell_type": "code",
   "execution_count": 8,
   "metadata": {},
   "outputs": [],
   "source": [
    "pattern = re.compile(r'^(.*), (the|a|an)$', re.IGNORECASE)\n",
    "def rearrange_title(title):\n",
    "    match = pattern.match(title)\n",
    "    if match:\n",
    "        return f\"{match.group(2)} {match.group(1)}\"\n",
    "    return title\n",
    "\n",
    "movies['title'] = movies['title'].apply(rearrange_title)"
   ]
  },
  {
   "cell_type": "markdown",
   "metadata": {},
   "source": [
    "Change le genre Children's avec Family pour correspondre au même genre que l'autre jeu de donnée (imdb)"
   ]
  },
  {
   "cell_type": "code",
   "execution_count": 9,
   "metadata": {},
   "outputs": [],
   "source": [
    "movies['genres'] = movies['genres'].str.replace(\"Children's\", \"Family\")"
   ]
  },
  {
   "cell_type": "code",
   "execution_count": 10,
   "metadata": {},
   "outputs": [],
   "source": [
    "### pas besoin y en a pas\n",
    "movies.drop_duplicates(inplace=True)"
   ]
  },
  {
   "cell_type": "markdown",
   "metadata": {},
   "source": [
    "### dataset imdb\n",
    "\n",
    "Data Loading"
   ]
  },
  {
   "cell_type": "code",
   "execution_count": 11,
   "metadata": {},
   "outputs": [],
   "source": [
    "# name_basics = pd.read_csv(\n",
    "#     data_path + r\"imdb/name.basics.tsv\",\n",
    "#     sep='\\t',\n",
    "#     engine=\"python\",\n",
    "#     # low_memory=False\n",
    "# )\n",
    "\n",
    "title_basics = pd.read_csv(\n",
    "    data_path + r\"imdb/title.basics.tsv\",\n",
    "    sep='\\t',\n",
    "    # engine=\"python\",\n",
    "    low_memory=False\n",
    ")\n",
    "\n",
    "title_ratings = pd.read_csv(\n",
    "    data_path + r\"imdb/title.ratings.tsv\",\n",
    "    sep='\\t',\n",
    "    # engine=\"python\",\n",
    "    low_memory=False\n",
    ")\n"
   ]
  },
  {
   "cell_type": "markdown",
   "metadata": {},
   "source": [
    "je sélectionne que les critiques de films ou de tvmovie car movielens ne contient que ce genre d'oeuvre"
   ]
  },
  {
   "cell_type": "code",
   "execution_count": 12,
   "metadata": {},
   "outputs": [
    {
     "data": {
      "text/plain": [
       "array(['movie', 'tvMovie'], dtype=object)"
      ]
     },
     "execution_count": 12,
     "metadata": {},
     "output_type": "execute_result"
    }
   ],
   "source": [
    "movietype = [\"movie\", \"tvMovie\"]\n",
    "title_preprocess = title_basics[title_basics[\"titleType\"].isin(movietype)].copy()\n",
    "title_preprocess['titleType'].unique()"
   ]
  },
  {
   "cell_type": "markdown",
   "metadata": {},
   "source": [
    "on drope endYear car la colonne ne fait sens que pour les TV series, et on drope isAdult car il n'y a que la valeur 0 pour les films qui sont aussi dans movielens donc la colonne est inutile."
   ]
  },
  {
   "cell_type": "code",
   "execution_count": 13,
   "metadata": {},
   "outputs": [],
   "source": [
    "title_preprocess.drop(columns=[\"endYear\", \"isAdult\"], inplace=True)"
   ]
  },
  {
   "cell_type": "markdown",
   "metadata": {},
   "source": [
    "Toutes les colonnes sont de type object, to_numeric c'est quand des valeurs sont a Nan"
   ]
  },
  {
   "cell_type": "code",
   "execution_count": 14,
   "metadata": {},
   "outputs": [],
   "source": [
    "title_preprocess[\"primaryTitle\"] = title_preprocess[\"primaryTitle\"].apply(str.lower)\n",
    "title_preprocess[\"originalTitle\"] = title_preprocess[\"originalTitle\"].apply(str.lower)\n",
    "title_preprocess['startYear'] = pd.to_numeric(title_preprocess['startYear'], errors=\"coerce\")\n",
    "title_preprocess['runtimeMinutes'] = pd.to_numeric(title_preprocess['runtimeMinutes'], errors=\"coerce\")\n",
    "\n",
    "title_ratings[\"averageRating\"] = title_ratings['averageRating'].apply(float)\n",
    "title_ratings[\"numVotes\"] = title_ratings['numVotes'].apply(int)\n",
    "\n",
    "title_preprocess.replace(r'\\N', np.nan, inplace=True)\n",
    "# title_preprocess.drop(columns='tconst', inplace=True)"
   ]
  },
  {
   "cell_type": "markdown",
   "metadata": {},
   "source": [
    "merge les descriptions des films avec leur rating celon tconst, leur id"
   ]
  },
  {
   "cell_type": "code",
   "execution_count": 15,
   "metadata": {},
   "outputs": [
    {
     "data": {
      "text/html": [
       "<div>\n",
       "<style scoped>\n",
       "    .dataframe tbody tr th:only-of-type {\n",
       "        vertical-align: middle;\n",
       "    }\n",
       "\n",
       "    .dataframe tbody tr th {\n",
       "        vertical-align: top;\n",
       "    }\n",
       "\n",
       "    .dataframe thead th {\n",
       "        text-align: right;\n",
       "    }\n",
       "</style>\n",
       "<table border=\"1\" class=\"dataframe\">\n",
       "  <thead>\n",
       "    <tr style=\"text-align: right;\">\n",
       "      <th></th>\n",
       "      <th>titleType</th>\n",
       "      <th>primaryTitle</th>\n",
       "      <th>originalTitle</th>\n",
       "      <th>startYear</th>\n",
       "      <th>runtimeMinutes</th>\n",
       "      <th>genres</th>\n",
       "      <th>averageRating</th>\n",
       "      <th>numVotes</th>\n",
       "    </tr>\n",
       "  </thead>\n",
       "  <tbody>\n",
       "    <tr>\n",
       "      <th>0</th>\n",
       "      <td>movie</td>\n",
       "      <td>miss jerry</td>\n",
       "      <td>miss jerry</td>\n",
       "      <td>1894.0</td>\n",
       "      <td>45.0</td>\n",
       "      <td>Romance</td>\n",
       "      <td>5.4</td>\n",
       "      <td>212.0</td>\n",
       "    </tr>\n",
       "    <tr>\n",
       "      <th>1</th>\n",
       "      <td>movie</td>\n",
       "      <td>the corbett-fitzsimmons fight</td>\n",
       "      <td>the corbett-fitzsimmons fight</td>\n",
       "      <td>1897.0</td>\n",
       "      <td>100.0</td>\n",
       "      <td>Documentary,News,Sport</td>\n",
       "      <td>5.2</td>\n",
       "      <td>518.0</td>\n",
       "    </tr>\n",
       "    <tr>\n",
       "      <th>2</th>\n",
       "      <td>movie</td>\n",
       "      <td>bohemios</td>\n",
       "      <td>bohemios</td>\n",
       "      <td>1905.0</td>\n",
       "      <td>100.0</td>\n",
       "      <td>NaN</td>\n",
       "      <td>4.4</td>\n",
       "      <td>17.0</td>\n",
       "    </tr>\n",
       "    <tr>\n",
       "      <th>3</th>\n",
       "      <td>movie</td>\n",
       "      <td>the story of the kelly gang</td>\n",
       "      <td>the story of the kelly gang</td>\n",
       "      <td>1906.0</td>\n",
       "      <td>70.0</td>\n",
       "      <td>Action,Adventure,Biography</td>\n",
       "      <td>6.0</td>\n",
       "      <td>914.0</td>\n",
       "    </tr>\n",
       "    <tr>\n",
       "      <th>4</th>\n",
       "      <td>movie</td>\n",
       "      <td>the prodigal son</td>\n",
       "      <td>l'enfant prodigue</td>\n",
       "      <td>1907.0</td>\n",
       "      <td>90.0</td>\n",
       "      <td>Drama</td>\n",
       "      <td>5.4</td>\n",
       "      <td>27.0</td>\n",
       "    </tr>\n",
       "  </tbody>\n",
       "</table>\n",
       "</div>"
      ],
      "text/plain": [
       "  titleType                   primaryTitle                  originalTitle  \\\n",
       "0     movie                     miss jerry                     miss jerry   \n",
       "1     movie  the corbett-fitzsimmons fight  the corbett-fitzsimmons fight   \n",
       "2     movie                       bohemios                       bohemios   \n",
       "3     movie    the story of the kelly gang    the story of the kelly gang   \n",
       "4     movie               the prodigal son              l'enfant prodigue   \n",
       "\n",
       "   startYear  runtimeMinutes                      genres  averageRating  \\\n",
       "0     1894.0            45.0                     Romance            5.4   \n",
       "1     1897.0           100.0      Documentary,News,Sport            5.2   \n",
       "2     1905.0           100.0                         NaN            4.4   \n",
       "3     1906.0            70.0  Action,Adventure,Biography            6.0   \n",
       "4     1907.0            90.0                       Drama            5.4   \n",
       "\n",
       "   numVotes  \n",
       "0     212.0  \n",
       "1     518.0  \n",
       "2      17.0  \n",
       "3     914.0  \n",
       "4      27.0  "
      ]
     },
     "execution_count": 15,
     "metadata": {},
     "output_type": "execute_result"
    }
   ],
   "source": [
    "title_merged = pd.merge(title_preprocess, title_ratings, on=\"tconst\", how=\"left\")\n",
    "title_merged.drop(columns=\"tconst\", inplace=True)\n",
    "title_merged.head()"
   ]
  },
  {
   "cell_type": "markdown",
   "metadata": {},
   "source": [
    "on merge les caractéristiques des films de imdb et movielens, selont les titres et l'année de parutions."
   ]
  },
  {
   "cell_type": "code",
   "execution_count": 16,
   "metadata": {},
   "outputs": [],
   "source": [
    "merged_df1 = pd.merge(movies, title_merged, left_on=[\"title\", \"year\"], right_on=[\"primaryTitle\", \"startYear\"], how=\"left\")\n",
    "merged_df2 = pd.merge(movies, title_merged, left_on=[\"title\", \"year\"], right_on=[\"originalTitle\", \"startYear\"], how=\"inner\")\n",
    "final_df = pd.concat([merged_df2, merged_df1], ignore_index=True).drop_duplicates()\n",
    "# merged_df3 = pd.merge(movies, final_df, on='movie_id', how=\"outer\")\n",
    "# final_df = pd.concat([final_df, merged_df3], ignore_index=True).drop_duplicates()"
   ]
  },
  {
   "cell_type": "markdown",
   "metadata": {},
   "source": [
    "j'ai deux cas soit title != primarytitle et j'obtiens un doublon a cause de left (je suis obligé sinon je perd des films), il y a deux films avec le meme titre et je prend le plus connue => qui est le plus plosible d'etre dans movielens."
   ]
  },
  {
   "cell_type": "code",
   "execution_count": 17,
   "metadata": {},
   "outputs": [],
   "source": [
    "def custom_rule(group):\n",
    "    return group.sort_values(by=\"numVotes\", ascending=False).iloc[0]\n",
    "\n",
    "final_df = final_df.groupby(\"movie_id\").apply(custom_rule).reset_index(drop=True)"
   ]
  },
  {
   "cell_type": "markdown",
   "metadata": {},
   "source": [
    "merge les colonnes de genres de imdb et movie lens"
   ]
  },
  {
   "cell_type": "code",
   "execution_count": 18,
   "metadata": {},
   "outputs": [],
   "source": [
    "def merge_genres(row):\n",
    "    genres1 = row['genres_x'].split('|') if pd.notna(row['genres_x']) else []\n",
    "    genres2 = row['genres_y'].split(',') if pd.notna(row['genres_y']) else []\n",
    "    merged_genres = list(set(genres1 + genres2))  # Fusionner et supprimer les doublons\n",
    "    return '|'.join(merged_genres)  # Rejoindre avec le délimiteur '|'\n",
    "\n",
    "# Appliquer la fonction à chaque ligne du DataFrame\n",
    "final_df['genres'] = final_df.apply(merge_genres, axis=1)"
   ]
  },
  {
   "cell_type": "markdown",
   "metadata": {},
   "source": [
    "drop toutes les colonnes inutiles pour le model"
   ]
  },
  {
   "cell_type": "code",
   "execution_count": 19,
   "metadata": {},
   "outputs": [],
   "source": [
    "final_df.drop(columns=[\"primaryTitle\", \"originalTitle\", \"genres_x\", \"genres_y\", \"startYear\"], inplace=True)"
   ]
  },
  {
   "cell_type": "markdown",
   "metadata": {},
   "source": [
    "ceux qui n'avaient pas de type dans imdb sont forcément des films vu qu'ils sont dans movie lens"
   ]
  },
  {
   "cell_type": "code",
   "execution_count": 20,
   "metadata": {},
   "outputs": [],
   "source": [
    "final_df[\"titleType\"] = final_df[\"titleType\"].fillna(\"movie\")"
   ]
  },
  {
   "cell_type": "code",
   "execution_count": 21,
   "metadata": {},
   "outputs": [],
   "source": [
    "genres = set(\"|\".join(final_df['genres'].unique()).split('|'))\n",
    "for genre in genres:\n",
    "    final_df[genre] = final_df['genres'].apply(lambda x: 1 if genre in x.split('|') else 0)\n",
    "final_df[\"titleType\"] = final_df[\"titleType\"].apply(lambda x: 1 if x == \"movie\" else 0)"
   ]
  },
  {
   "cell_type": "markdown",
   "metadata": {},
   "source": [
    "On remplit les averageRating avec ceux qu'on a dans MovieLens"
   ]
  },
  {
   "cell_type": "code",
   "execution_count": 22,
   "metadata": {},
   "outputs": [],
   "source": [
    "for id in final_df[final_df[\"averageRating\"].isna()][\"movie_id\"].unique():\n",
    "    r_list = ratings[ratings[\"movie_id\"] == id]\n",
    "    if len(r_list) == 0:\n",
    "        final_df.loc[final_df[\"movie_id\"] == id, [\"numVotes\"]] = [0]\n",
    "    else:\n",
    "        final_df.loc[final_df[\"movie_id\"] == id, [\"averageRating\",\"numVotes\"]] = [r_list[\"rating\"].values.mean(), len(r_list)]"
   ]
  },
  {
   "cell_type": "code",
   "execution_count": 23,
   "metadata": {},
   "outputs": [],
   "source": [
    "final_df.to_csv(\"dataset.csv\", index=False)"
   ]
  },
  {
   "cell_type": "code",
   "execution_count": 24,
   "metadata": {},
   "outputs": [],
   "source": [
    "df = pd.read_csv(\"dataset.csv\")"
   ]
  },
  {
   "cell_type": "code",
   "execution_count": 25,
   "metadata": {},
   "outputs": [
    {
     "data": {
      "text/html": [
       "<div>\n",
       "<style scoped>\n",
       "    .dataframe tbody tr th:only-of-type {\n",
       "        vertical-align: middle;\n",
       "    }\n",
       "\n",
       "    .dataframe tbody tr th {\n",
       "        vertical-align: top;\n",
       "    }\n",
       "\n",
       "    .dataframe thead th {\n",
       "        text-align: right;\n",
       "    }\n",
       "</style>\n",
       "<table border=\"1\" class=\"dataframe\">\n",
       "  <thead>\n",
       "    <tr style=\"text-align: right;\">\n",
       "      <th></th>\n",
       "      <th>user_id</th>\n",
       "      <th>movie_id</th>\n",
       "      <th>rating</th>\n",
       "    </tr>\n",
       "  </thead>\n",
       "  <tbody>\n",
       "    <tr>\n",
       "      <th>0</th>\n",
       "      <td>1</td>\n",
       "      <td>1193</td>\n",
       "      <td>5.0</td>\n",
       "    </tr>\n",
       "    <tr>\n",
       "      <th>1</th>\n",
       "      <td>1</td>\n",
       "      <td>661</td>\n",
       "      <td>3.0</td>\n",
       "    </tr>\n",
       "    <tr>\n",
       "      <th>2</th>\n",
       "      <td>1</td>\n",
       "      <td>914</td>\n",
       "      <td>3.0</td>\n",
       "    </tr>\n",
       "    <tr>\n",
       "      <th>3</th>\n",
       "      <td>1</td>\n",
       "      <td>3408</td>\n",
       "      <td>4.0</td>\n",
       "    </tr>\n",
       "    <tr>\n",
       "      <th>4</th>\n",
       "      <td>1</td>\n",
       "      <td>2355</td>\n",
       "      <td>5.0</td>\n",
       "    </tr>\n",
       "    <tr>\n",
       "      <th>...</th>\n",
       "      <td>...</td>\n",
       "      <td>...</td>\n",
       "      <td>...</td>\n",
       "    </tr>\n",
       "    <tr>\n",
       "      <th>1000204</th>\n",
       "      <td>6040</td>\n",
       "      <td>1091</td>\n",
       "      <td>1.0</td>\n",
       "    </tr>\n",
       "    <tr>\n",
       "      <th>1000205</th>\n",
       "      <td>6040</td>\n",
       "      <td>1094</td>\n",
       "      <td>5.0</td>\n",
       "    </tr>\n",
       "    <tr>\n",
       "      <th>1000206</th>\n",
       "      <td>6040</td>\n",
       "      <td>562</td>\n",
       "      <td>5.0</td>\n",
       "    </tr>\n",
       "    <tr>\n",
       "      <th>1000207</th>\n",
       "      <td>6040</td>\n",
       "      <td>1096</td>\n",
       "      <td>4.0</td>\n",
       "    </tr>\n",
       "    <tr>\n",
       "      <th>1000208</th>\n",
       "      <td>6040</td>\n",
       "      <td>1097</td>\n",
       "      <td>4.0</td>\n",
       "    </tr>\n",
       "  </tbody>\n",
       "</table>\n",
       "<p>1000209 rows × 3 columns</p>\n",
       "</div>"
      ],
      "text/plain": [
       "         user_id  movie_id  rating\n",
       "0              1      1193     5.0\n",
       "1              1       661     3.0\n",
       "2              1       914     3.0\n",
       "3              1      3408     4.0\n",
       "4              1      2355     5.0\n",
       "...          ...       ...     ...\n",
       "1000204     6040      1091     1.0\n",
       "1000205     6040      1094     5.0\n",
       "1000206     6040       562     5.0\n",
       "1000207     6040      1096     4.0\n",
       "1000208     6040      1097     4.0\n",
       "\n",
       "[1000209 rows x 3 columns]"
      ]
     },
     "execution_count": 25,
     "metadata": {},
     "output_type": "execute_result"
    }
   ],
   "source": [
    "# df.drop(columns=\"startYear\", inplace=True)\n",
    "ratings"
   ]
  },
  {
   "cell_type": "code",
   "execution_count": 26,
   "metadata": {},
   "outputs": [
    {
     "data": {
      "text/html": [
       "<div>\n",
       "<style scoped>\n",
       "    .dataframe tbody tr th:only-of-type {\n",
       "        vertical-align: middle;\n",
       "    }\n",
       "\n",
       "    .dataframe tbody tr th {\n",
       "        vertical-align: top;\n",
       "    }\n",
       "\n",
       "    .dataframe thead th {\n",
       "        text-align: right;\n",
       "    }\n",
       "</style>\n",
       "<table border=\"1\" class=\"dataframe\">\n",
       "  <thead>\n",
       "    <tr style=\"text-align: right;\">\n",
       "      <th>user_id</th>\n",
       "      <th>1</th>\n",
       "      <th>2</th>\n",
       "      <th>3</th>\n",
       "      <th>4</th>\n",
       "      <th>5</th>\n",
       "      <th>6</th>\n",
       "      <th>7</th>\n",
       "      <th>8</th>\n",
       "      <th>9</th>\n",
       "      <th>10</th>\n",
       "      <th>...</th>\n",
       "      <th>6031</th>\n",
       "      <th>6032</th>\n",
       "      <th>6033</th>\n",
       "      <th>6034</th>\n",
       "      <th>6035</th>\n",
       "      <th>6036</th>\n",
       "      <th>6037</th>\n",
       "      <th>6038</th>\n",
       "      <th>6039</th>\n",
       "      <th>6040</th>\n",
       "    </tr>\n",
       "    <tr>\n",
       "      <th>movie_id</th>\n",
       "      <th></th>\n",
       "      <th></th>\n",
       "      <th></th>\n",
       "      <th></th>\n",
       "      <th></th>\n",
       "      <th></th>\n",
       "      <th></th>\n",
       "      <th></th>\n",
       "      <th></th>\n",
       "      <th></th>\n",
       "      <th></th>\n",
       "      <th></th>\n",
       "      <th></th>\n",
       "      <th></th>\n",
       "      <th></th>\n",
       "      <th></th>\n",
       "      <th></th>\n",
       "      <th></th>\n",
       "      <th></th>\n",
       "      <th></th>\n",
       "      <th></th>\n",
       "    </tr>\n",
       "  </thead>\n",
       "  <tbody>\n",
       "    <tr>\n",
       "      <th>1</th>\n",
       "      <td>5.0</td>\n",
       "      <td>0.0</td>\n",
       "      <td>0.0</td>\n",
       "      <td>0.0</td>\n",
       "      <td>0.0</td>\n",
       "      <td>4.0</td>\n",
       "      <td>0.0</td>\n",
       "      <td>4.0</td>\n",
       "      <td>5.0</td>\n",
       "      <td>5.0</td>\n",
       "      <td>...</td>\n",
       "      <td>0.0</td>\n",
       "      <td>4.0</td>\n",
       "      <td>0.0</td>\n",
       "      <td>0.0</td>\n",
       "      <td>4.0</td>\n",
       "      <td>0.0</td>\n",
       "      <td>0.0</td>\n",
       "      <td>0.0</td>\n",
       "      <td>0.0</td>\n",
       "      <td>3.0</td>\n",
       "    </tr>\n",
       "    <tr>\n",
       "      <th>2</th>\n",
       "      <td>0.0</td>\n",
       "      <td>0.0</td>\n",
       "      <td>0.0</td>\n",
       "      <td>0.0</td>\n",
       "      <td>0.0</td>\n",
       "      <td>0.0</td>\n",
       "      <td>0.0</td>\n",
       "      <td>0.0</td>\n",
       "      <td>0.0</td>\n",
       "      <td>5.0</td>\n",
       "      <td>...</td>\n",
       "      <td>0.0</td>\n",
       "      <td>0.0</td>\n",
       "      <td>0.0</td>\n",
       "      <td>0.0</td>\n",
       "      <td>0.0</td>\n",
       "      <td>0.0</td>\n",
       "      <td>0.0</td>\n",
       "      <td>0.0</td>\n",
       "      <td>0.0</td>\n",
       "      <td>0.0</td>\n",
       "    </tr>\n",
       "    <tr>\n",
       "      <th>3</th>\n",
       "      <td>0.0</td>\n",
       "      <td>0.0</td>\n",
       "      <td>0.0</td>\n",
       "      <td>0.0</td>\n",
       "      <td>0.0</td>\n",
       "      <td>0.0</td>\n",
       "      <td>0.0</td>\n",
       "      <td>0.0</td>\n",
       "      <td>0.0</td>\n",
       "      <td>0.0</td>\n",
       "      <td>...</td>\n",
       "      <td>0.0</td>\n",
       "      <td>0.0</td>\n",
       "      <td>0.0</td>\n",
       "      <td>0.0</td>\n",
       "      <td>1.0</td>\n",
       "      <td>0.0</td>\n",
       "      <td>0.0</td>\n",
       "      <td>0.0</td>\n",
       "      <td>0.0</td>\n",
       "      <td>0.0</td>\n",
       "    </tr>\n",
       "    <tr>\n",
       "      <th>4</th>\n",
       "      <td>0.0</td>\n",
       "      <td>0.0</td>\n",
       "      <td>0.0</td>\n",
       "      <td>0.0</td>\n",
       "      <td>0.0</td>\n",
       "      <td>0.0</td>\n",
       "      <td>0.0</td>\n",
       "      <td>3.0</td>\n",
       "      <td>0.0</td>\n",
       "      <td>0.0</td>\n",
       "      <td>...</td>\n",
       "      <td>0.0</td>\n",
       "      <td>0.0</td>\n",
       "      <td>0.0</td>\n",
       "      <td>0.0</td>\n",
       "      <td>2.0</td>\n",
       "      <td>2.0</td>\n",
       "      <td>0.0</td>\n",
       "      <td>0.0</td>\n",
       "      <td>0.0</td>\n",
       "      <td>0.0</td>\n",
       "    </tr>\n",
       "    <tr>\n",
       "      <th>5</th>\n",
       "      <td>0.0</td>\n",
       "      <td>0.0</td>\n",
       "      <td>0.0</td>\n",
       "      <td>0.0</td>\n",
       "      <td>0.0</td>\n",
       "      <td>0.0</td>\n",
       "      <td>0.0</td>\n",
       "      <td>0.0</td>\n",
       "      <td>0.0</td>\n",
       "      <td>0.0</td>\n",
       "      <td>...</td>\n",
       "      <td>0.0</td>\n",
       "      <td>0.0</td>\n",
       "      <td>0.0</td>\n",
       "      <td>0.0</td>\n",
       "      <td>1.0</td>\n",
       "      <td>0.0</td>\n",
       "      <td>0.0</td>\n",
       "      <td>0.0</td>\n",
       "      <td>0.0</td>\n",
       "      <td>0.0</td>\n",
       "    </tr>\n",
       "    <tr>\n",
       "      <th>...</th>\n",
       "      <td>...</td>\n",
       "      <td>...</td>\n",
       "      <td>...</td>\n",
       "      <td>...</td>\n",
       "      <td>...</td>\n",
       "      <td>...</td>\n",
       "      <td>...</td>\n",
       "      <td>...</td>\n",
       "      <td>...</td>\n",
       "      <td>...</td>\n",
       "      <td>...</td>\n",
       "      <td>...</td>\n",
       "      <td>...</td>\n",
       "      <td>...</td>\n",
       "      <td>...</td>\n",
       "      <td>...</td>\n",
       "      <td>...</td>\n",
       "      <td>...</td>\n",
       "      <td>...</td>\n",
       "      <td>...</td>\n",
       "      <td>...</td>\n",
       "    </tr>\n",
       "    <tr>\n",
       "      <th>3948</th>\n",
       "      <td>0.0</td>\n",
       "      <td>0.0</td>\n",
       "      <td>0.0</td>\n",
       "      <td>0.0</td>\n",
       "      <td>0.0</td>\n",
       "      <td>0.0</td>\n",
       "      <td>0.0</td>\n",
       "      <td>0.0</td>\n",
       "      <td>3.0</td>\n",
       "      <td>4.0</td>\n",
       "      <td>...</td>\n",
       "      <td>0.0</td>\n",
       "      <td>0.0</td>\n",
       "      <td>0.0</td>\n",
       "      <td>0.0</td>\n",
       "      <td>0.0</td>\n",
       "      <td>0.0</td>\n",
       "      <td>0.0</td>\n",
       "      <td>0.0</td>\n",
       "      <td>0.0</td>\n",
       "      <td>0.0</td>\n",
       "    </tr>\n",
       "    <tr>\n",
       "      <th>3949</th>\n",
       "      <td>0.0</td>\n",
       "      <td>0.0</td>\n",
       "      <td>0.0</td>\n",
       "      <td>0.0</td>\n",
       "      <td>0.0</td>\n",
       "      <td>0.0</td>\n",
       "      <td>0.0</td>\n",
       "      <td>0.0</td>\n",
       "      <td>0.0</td>\n",
       "      <td>0.0</td>\n",
       "      <td>...</td>\n",
       "      <td>0.0</td>\n",
       "      <td>0.0</td>\n",
       "      <td>0.0</td>\n",
       "      <td>0.0</td>\n",
       "      <td>0.0</td>\n",
       "      <td>0.0</td>\n",
       "      <td>0.0</td>\n",
       "      <td>0.0</td>\n",
       "      <td>0.0</td>\n",
       "      <td>0.0</td>\n",
       "    </tr>\n",
       "    <tr>\n",
       "      <th>3950</th>\n",
       "      <td>0.0</td>\n",
       "      <td>0.0</td>\n",
       "      <td>0.0</td>\n",
       "      <td>0.0</td>\n",
       "      <td>0.0</td>\n",
       "      <td>0.0</td>\n",
       "      <td>0.0</td>\n",
       "      <td>0.0</td>\n",
       "      <td>0.0</td>\n",
       "      <td>0.0</td>\n",
       "      <td>...</td>\n",
       "      <td>0.0</td>\n",
       "      <td>0.0</td>\n",
       "      <td>0.0</td>\n",
       "      <td>0.0</td>\n",
       "      <td>0.0</td>\n",
       "      <td>0.0</td>\n",
       "      <td>0.0</td>\n",
       "      <td>0.0</td>\n",
       "      <td>0.0</td>\n",
       "      <td>0.0</td>\n",
       "    </tr>\n",
       "    <tr>\n",
       "      <th>3951</th>\n",
       "      <td>0.0</td>\n",
       "      <td>0.0</td>\n",
       "      <td>0.0</td>\n",
       "      <td>0.0</td>\n",
       "      <td>0.0</td>\n",
       "      <td>0.0</td>\n",
       "      <td>0.0</td>\n",
       "      <td>0.0</td>\n",
       "      <td>0.0</td>\n",
       "      <td>0.0</td>\n",
       "      <td>...</td>\n",
       "      <td>0.0</td>\n",
       "      <td>0.0</td>\n",
       "      <td>0.0</td>\n",
       "      <td>0.0</td>\n",
       "      <td>0.0</td>\n",
       "      <td>0.0</td>\n",
       "      <td>0.0</td>\n",
       "      <td>0.0</td>\n",
       "      <td>0.0</td>\n",
       "      <td>0.0</td>\n",
       "    </tr>\n",
       "    <tr>\n",
       "      <th>3952</th>\n",
       "      <td>0.0</td>\n",
       "      <td>0.0</td>\n",
       "      <td>0.0</td>\n",
       "      <td>0.0</td>\n",
       "      <td>0.0</td>\n",
       "      <td>0.0</td>\n",
       "      <td>0.0</td>\n",
       "      <td>0.0</td>\n",
       "      <td>0.0</td>\n",
       "      <td>0.0</td>\n",
       "      <td>...</td>\n",
       "      <td>0.0</td>\n",
       "      <td>0.0</td>\n",
       "      <td>0.0</td>\n",
       "      <td>0.0</td>\n",
       "      <td>0.0</td>\n",
       "      <td>0.0</td>\n",
       "      <td>0.0</td>\n",
       "      <td>0.0</td>\n",
       "      <td>0.0</td>\n",
       "      <td>0.0</td>\n",
       "    </tr>\n",
       "  </tbody>\n",
       "</table>\n",
       "<p>3706 rows × 6040 columns</p>\n",
       "</div>"
      ],
      "text/plain": [
       "user_id   1     2     3     4     5     6     7     8     9     10    ...  \\\n",
       "movie_id                                                              ...   \n",
       "1          5.0   0.0   0.0   0.0   0.0   4.0   0.0   4.0   5.0   5.0  ...   \n",
       "2          0.0   0.0   0.0   0.0   0.0   0.0   0.0   0.0   0.0   5.0  ...   \n",
       "3          0.0   0.0   0.0   0.0   0.0   0.0   0.0   0.0   0.0   0.0  ...   \n",
       "4          0.0   0.0   0.0   0.0   0.0   0.0   0.0   3.0   0.0   0.0  ...   \n",
       "5          0.0   0.0   0.0   0.0   0.0   0.0   0.0   0.0   0.0   0.0  ...   \n",
       "...        ...   ...   ...   ...   ...   ...   ...   ...   ...   ...  ...   \n",
       "3948       0.0   0.0   0.0   0.0   0.0   0.0   0.0   0.0   3.0   4.0  ...   \n",
       "3949       0.0   0.0   0.0   0.0   0.0   0.0   0.0   0.0   0.0   0.0  ...   \n",
       "3950       0.0   0.0   0.0   0.0   0.0   0.0   0.0   0.0   0.0   0.0  ...   \n",
       "3951       0.0   0.0   0.0   0.0   0.0   0.0   0.0   0.0   0.0   0.0  ...   \n",
       "3952       0.0   0.0   0.0   0.0   0.0   0.0   0.0   0.0   0.0   0.0  ...   \n",
       "\n",
       "user_id   6031  6032  6033  6034  6035  6036  6037  6038  6039  6040  \n",
       "movie_id                                                              \n",
       "1          0.0   4.0   0.0   0.0   4.0   0.0   0.0   0.0   0.0   3.0  \n",
       "2          0.0   0.0   0.0   0.0   0.0   0.0   0.0   0.0   0.0   0.0  \n",
       "3          0.0   0.0   0.0   0.0   1.0   0.0   0.0   0.0   0.0   0.0  \n",
       "4          0.0   0.0   0.0   0.0   2.0   2.0   0.0   0.0   0.0   0.0  \n",
       "5          0.0   0.0   0.0   0.0   1.0   0.0   0.0   0.0   0.0   0.0  \n",
       "...        ...   ...   ...   ...   ...   ...   ...   ...   ...   ...  \n",
       "3948       0.0   0.0   0.0   0.0   0.0   0.0   0.0   0.0   0.0   0.0  \n",
       "3949       0.0   0.0   0.0   0.0   0.0   0.0   0.0   0.0   0.0   0.0  \n",
       "3950       0.0   0.0   0.0   0.0   0.0   0.0   0.0   0.0   0.0   0.0  \n",
       "3951       0.0   0.0   0.0   0.0   0.0   0.0   0.0   0.0   0.0   0.0  \n",
       "3952       0.0   0.0   0.0   0.0   0.0   0.0   0.0   0.0   0.0   0.0  \n",
       "\n",
       "[3706 rows x 6040 columns]"
      ]
     },
     "execution_count": 26,
     "metadata": {},
     "output_type": "execute_result"
    }
   ],
   "source": [
    "Y = ratings.pivot(index='movie_id', columns='user_id', values='rating')\n",
    "Y = Y.fillna(0)\n",
    "Y"
   ]
  },
  {
   "cell_type": "markdown",
   "metadata": {},
   "source": [
    "Crée un dataframe users avec la note moyenne pour chaque genre de film, 0 si l'utilisateur n'a jamais noté le genre."
   ]
  },
  {
   "cell_type": "code",
   "execution_count": 27,
   "metadata": {},
   "outputs": [],
   "source": [
    "\n",
    "\n",
    "genres = set(\"|\".join(df['genres'].unique()).split('|'))\n",
    "# Ajoute les colonne genres au df users\n",
    "for genre in genres:\n",
    "    users[genre] = 0\n",
    "# Ajouter la colonne 'nrating'\n",
    "users['nrating'] = 0\n"
   ]
  },
  {
   "cell_type": "code",
   "execution_count": 29,
   "metadata": {},
   "outputs": [
    {
     "data": {
      "text/html": [
       "<div>\n",
       "<style scoped>\n",
       "    .dataframe tbody tr th:only-of-type {\n",
       "        vertical-align: middle;\n",
       "    }\n",
       "\n",
       "    .dataframe tbody tr th {\n",
       "        vertical-align: top;\n",
       "    }\n",
       "\n",
       "    .dataframe thead th {\n",
       "        text-align: right;\n",
       "    }\n",
       "</style>\n",
       "<table border=\"1\" class=\"dataframe\">\n",
       "  <thead>\n",
       "    <tr style=\"text-align: right;\">\n",
       "      <th></th>\n",
       "      <th>index</th>\n",
       "      <th>user_id</th>\n",
       "      <th>sex</th>\n",
       "      <th>age_group</th>\n",
       "      <th>occupation</th>\n",
       "      <th>Documentary</th>\n",
       "      <th>Romance</th>\n",
       "      <th>Family</th>\n",
       "      <th>Drama</th>\n",
       "      <th>Music</th>\n",
       "      <th>...</th>\n",
       "      <th>History</th>\n",
       "      <th>Biography</th>\n",
       "      <th>Thriller</th>\n",
       "      <th>War</th>\n",
       "      <th>Action</th>\n",
       "      <th>Sci-Fi</th>\n",
       "      <th>Adventure</th>\n",
       "      <th>Film-Noir</th>\n",
       "      <th>Mystery</th>\n",
       "      <th>nrating</th>\n",
       "    </tr>\n",
       "  </thead>\n",
       "  <tbody>\n",
       "    <tr>\n",
       "      <th>0</th>\n",
       "      <td>0</td>\n",
       "      <td>1</td>\n",
       "      <td>0</td>\n",
       "      <td>1</td>\n",
       "      <td>10</td>\n",
       "      <td>0.000000</td>\n",
       "      <td>3.714286</td>\n",
       "      <td>4.200000</td>\n",
       "      <td>4.290323</td>\n",
       "      <td>5.00</td>\n",
       "      <td>...</td>\n",
       "      <td>5.000000</td>\n",
       "      <td>4.600000</td>\n",
       "      <td>3.666667</td>\n",
       "      <td>5.000000</td>\n",
       "      <td>4.166667</td>\n",
       "      <td>4.333333</td>\n",
       "      <td>4.200000</td>\n",
       "      <td>0.0</td>\n",
       "      <td>4.000000</td>\n",
       "      <td>53</td>\n",
       "    </tr>\n",
       "    <tr>\n",
       "      <th>1</th>\n",
       "      <td>1</td>\n",
       "      <td>2</td>\n",
       "      <td>1</td>\n",
       "      <td>56</td>\n",
       "      <td>16</td>\n",
       "      <td>0.000000</td>\n",
       "      <td>3.774194</td>\n",
       "      <td>5.000000</td>\n",
       "      <td>3.817204</td>\n",
       "      <td>4.25</td>\n",
       "      <td>...</td>\n",
       "      <td>3.666667</td>\n",
       "      <td>4.000000</td>\n",
       "      <td>3.511628</td>\n",
       "      <td>3.750000</td>\n",
       "      <td>3.483871</td>\n",
       "      <td>3.588235</td>\n",
       "      <td>3.677419</td>\n",
       "      <td>4.0</td>\n",
       "      <td>3.125000</td>\n",
       "      <td>129</td>\n",
       "    </tr>\n",
       "    <tr>\n",
       "      <th>2</th>\n",
       "      <td>2</td>\n",
       "      <td>3</td>\n",
       "      <td>1</td>\n",
       "      <td>25</td>\n",
       "      <td>15</td>\n",
       "      <td>0.000000</td>\n",
       "      <td>3.833333</td>\n",
       "      <td>4.250000</td>\n",
       "      <td>3.894737</td>\n",
       "      <td>0.00</td>\n",
       "      <td>...</td>\n",
       "      <td>0.000000</td>\n",
       "      <td>5.000000</td>\n",
       "      <td>3.714286</td>\n",
       "      <td>4.000000</td>\n",
       "      <td>4.000000</td>\n",
       "      <td>4.000000</td>\n",
       "      <td>3.965517</td>\n",
       "      <td>0.0</td>\n",
       "      <td>3.000000</td>\n",
       "      <td>51</td>\n",
       "    </tr>\n",
       "    <tr>\n",
       "      <th>3</th>\n",
       "      <td>3</td>\n",
       "      <td>4</td>\n",
       "      <td>1</td>\n",
       "      <td>45</td>\n",
       "      <td>7</td>\n",
       "      <td>0.000000</td>\n",
       "      <td>4.000000</td>\n",
       "      <td>4.000000</td>\n",
       "      <td>4.250000</td>\n",
       "      <td>0.00</td>\n",
       "      <td>...</td>\n",
       "      <td>0.000000</td>\n",
       "      <td>0.000000</td>\n",
       "      <td>4.000000</td>\n",
       "      <td>3.333333</td>\n",
       "      <td>4.157895</td>\n",
       "      <td>3.555556</td>\n",
       "      <td>4.000000</td>\n",
       "      <td>0.0</td>\n",
       "      <td>5.000000</td>\n",
       "      <td>21</td>\n",
       "    </tr>\n",
       "    <tr>\n",
       "      <th>4</th>\n",
       "      <td>4</td>\n",
       "      <td>5</td>\n",
       "      <td>1</td>\n",
       "      <td>25</td>\n",
       "      <td>20</td>\n",
       "      <td>3.666667</td>\n",
       "      <td>3.142857</td>\n",
       "      <td>3.833333</td>\n",
       "      <td>3.090909</td>\n",
       "      <td>2.90</td>\n",
       "      <td>...</td>\n",
       "      <td>3.285714</td>\n",
       "      <td>3.285714</td>\n",
       "      <td>2.782609</td>\n",
       "      <td>3.142857</td>\n",
       "      <td>2.710526</td>\n",
       "      <td>3.176471</td>\n",
       "      <td>3.200000</td>\n",
       "      <td>4.0</td>\n",
       "      <td>3.111111</td>\n",
       "      <td>198</td>\n",
       "    </tr>\n",
       "  </tbody>\n",
       "</table>\n",
       "<p>5 rows × 28 columns</p>\n",
       "</div>"
      ],
      "text/plain": [
       "   index  user_id  sex  age_group  occupation  Documentary   Romance  \\\n",
       "0      0        1    0          1          10     0.000000  3.714286   \n",
       "1      1        2    1         56          16     0.000000  3.774194   \n",
       "2      2        3    1         25          15     0.000000  3.833333   \n",
       "3      3        4    1         45           7     0.000000  4.000000   \n",
       "4      4        5    1         25          20     3.666667  3.142857   \n",
       "\n",
       "     Family     Drama  Music  ...   History  Biography  Thriller       War  \\\n",
       "0  4.200000  4.290323   5.00  ...  5.000000   4.600000  3.666667  5.000000   \n",
       "1  5.000000  3.817204   4.25  ...  3.666667   4.000000  3.511628  3.750000   \n",
       "2  4.250000  3.894737   0.00  ...  0.000000   5.000000  3.714286  4.000000   \n",
       "3  4.000000  4.250000   0.00  ...  0.000000   0.000000  4.000000  3.333333   \n",
       "4  3.833333  3.090909   2.90  ...  3.285714   3.285714  2.782609  3.142857   \n",
       "\n",
       "     Action    Sci-Fi  Adventure  Film-Noir   Mystery  nrating  \n",
       "0  4.166667  4.333333   4.200000        0.0  4.000000       53  \n",
       "1  3.483871  3.588235   3.677419        4.0  3.125000      129  \n",
       "2  4.000000  4.000000   3.965517        0.0  3.000000       51  \n",
       "3  4.157895  3.555556   4.000000        0.0  5.000000       21  \n",
       "4  2.710526  3.176471   3.200000        4.0  3.111111      198  \n",
       "\n",
       "[5 rows x 28 columns]"
      ]
     },
     "execution_count": 29,
     "metadata": {},
     "output_type": "execute_result"
    }
   ],
   "source": [
    "# Fusionner les évaluations avec les genres\n",
    "all_genres = set(\"|\".join(df['genres'].unique()).split('|'))\n",
    "merged_df = ratings.merge(df, on='movie_id', how=\"left\")\n",
    "users_df = users.copy().reset_index()\n",
    "\n",
    "# Initialiser un dictionnaire pour stocker les sommes et les comptes des genres\n",
    "genre_sum_count = {genre: {'sum': {}, 'count': {}} for genre in all_genres}\n",
    "\n",
    "# Parcourir les lignes de merged_df pour calculer les sommes et les comptes\n",
    "for _, row in merged_df.iterrows():\n",
    "    user_id = row['user_id']\n",
    "    rating = row['rating']\n",
    "    genres = row['genres'].split('|')\n",
    "    \n",
    "    users_df.loc[users_df['user_id'] == user_id, 'nrating'] += 1\n",
    "    \n",
    "    for genre in genres:\n",
    "        if user_id in genre_sum_count[genre]['sum']:\n",
    "            genre_sum_count[genre]['sum'][user_id] += rating\n",
    "            genre_sum_count[genre]['count'][user_id] += 1\n",
    "        else:\n",
    "            genre_sum_count[genre]['sum'][user_id] = rating\n",
    "            genre_sum_count[genre]['count'][user_id] = 1\n",
    "\n",
    "# Calculer les moyennes pour chaque genre et mettre à jour users_df\n",
    "for genre in all_genres:\n",
    "    for user_id in genre_sum_count[genre]['sum']:\n",
    "        users_df.loc[users_df['user_id'] == user_id, genre] = (\n",
    "            genre_sum_count[genre]['sum'][user_id] / genre_sum_count[genre]['count'][user_id]\n",
    "        )\n",
    "\n",
    "users_df.head()\n"
   ]
  },
  {
   "cell_type": "code",
   "execution_count": 55,
   "metadata": {},
   "outputs": [],
   "source": [
    "list_user = np.array(users_df.sort_values(\"nrating\", ascending=False)[:200][\"user_id\"].copy())"
   ]
  },
  {
   "cell_type": "code",
   "execution_count": 73,
   "metadata": {},
   "outputs": [],
   "source": [
    "coupled = []\n",
    "couplelist = []\n",
    "i = 0\n",
    "for user in list_user:\n",
    "    i += 1\n",
    "    if user in coupled:\n",
    "        continue\n",
    "    movie_rated1 = set(ratings[ratings[\"user_id\"] == user][\"movie_id\"])\n",
    "    max_nb_movies_commun = 0\n",
    "    for j in range(i, len(list_user)):\n",
    "        if(list_user[j] in coupled):\n",
    "            continue\n",
    "        movie_rated2 = set(ratings[ratings[\"user_id\"] == list_user[j]][\"movie_id\"])\n",
    "        nb_movies_commun = len(movie_rated1.intersection(movie_rated2))\n",
    "        if nb_movies_commun > max_nb_movies_commun:\n",
    "            user_couple = j\n",
    "            nb_movies_commun_couple = nb_movies_commun\n",
    "    if max_nb_movies_commun > 100:\n",
    "        couplelist.append((user, user_couple))\n",
    "        coupled.append(user)\n",
    "        coupled.append(user_couple) "
   ]
  },
  {
   "cell_type": "code",
   "execution_count": 75,
   "metadata": {},
   "outputs": [
    {
     "name": "stdout",
     "output_type": "stream",
     "text": [
      "[(4169, 2), (1680, 3), (4277, 4), (1941, 4), (1181, 6), (889, 9), (3618, 15), (2063, 10), (1150, 9), (1015, 12), (5795, 13), (4344, 21), (1980, 18), (2909, 15), (1449, 16), (4510, 19), (424, 21), (4227, 24), (5831, 21), (3841, 24), (3391, 23), (4508, 23), (1088, 30), (5367, 25), (3808, 25), (549, 26), (1285, 29), (3224, 30), (3539, 32), (4543, 31), (5643, 53), (1448, 32), (752, 39), (3032, 38), (3824, 36), (524, 39), (4448, 49), (4064, 45), (4725, 52), (1010, 68), (5954, 43), (678, 49), (1447, 61), (4447, 49), (2116, 71), (550, 49), (1605, 77), (3526, 57), (1698, 55), (1880, 73), (1912, 55), (3778, 57), (4808, 57), (3292, 60), (4425, 73), (1019, 76), (3507, 67), (3311, 89), (2181, 108), (881, 149), (6016, 105), (2015, 69), (2106, 77), (2820, 93), (5812, 92), (4647, 76), (6036, 93), (710, 68), (4312, 82), (1647, 78), (4979, 97), (2777, 84), (5026, 95), (4386, 107), (2304, 110), (352, 102), (5046, 88), (531, 84), (1676, 90), (1051, 84), (2507, 81), (3163, 138), (3626, 89), (5100, 137), (1958, 96), (2907, 119), (5394, 114), (3675, 108), (5636, 126), (4041, 99), (869, 136), (1733, 134), (5333, 98), (5614, 108), (3401, 95), (3272, 101), (4085, 176), (2665, 107), (3067, 102), (5788, 125), (482, 120), (5256, 148), (3471, 119), (3829, 165), (195, 110), (1383, 117), (3792, 114), (4238, 132), (5627, 118), (2529, 156), (1340, 120), (5111, 117), (1317, 156), (2857, 132), (1613, 136), (216, 152), (1635, 132), (3705, 137), (2793, 131), (302, 136), (3650, 136), (4682, 126), (1837, 167), (4482, 137), (1425, 147), (1737, 149), (839, 167), (1835, 138), (1632, 137), (4083, 130), (4021, 132), (1579, 138), (245, 183), (329, 136), (5074, 137), (3029, 147), (770, 149), (1899, 154), (1117, 142), (1451, 156), (2109, 149), (5880, 167), (4957, 147), (4387, 147), (3999, 199), (1203, 161), (5605, 147), (1120, 155), (4140, 156), (2010, 197), (5387, 151), (3410, 166), (2092, 171), (3821, 154), (2544, 171), (4048, 180), (1422, 168), (3491, 176), (1266, 176), (5433, 167), (5511, 181), (509, 167), (319, 165), (5220, 167), (5312, 168), (2986, 177), (5054, 171), (1264, 194), (3768, 199), (1470, 184), (3308, 196), (1884, 192), (3476, 173), (5916, 185), (660, 181), (3934, 196), (4089, 189), (4728, 194), (1812, 189), (3610, 182), (2878, 181), (984, 192), (4579, 191), (3589, 196), (4305, 199), (4732, 194), (2077, 197), (1354, 189), (3562, 199), (1943, 194), (1112, 199), (4016, 194), (5763, 194), (1303, 199), (699, 197), (543, 197), (202, 199), (3842, 199), (3681, 199)]\n"
     ]
    }
   ],
   "source": [
    "# len(couplelist)\n",
    "print(couplelist)"
   ]
  },
  {
   "cell_type": "code",
   "execution_count": 63,
   "metadata": {},
   "outputs": [
    {
     "data": {
      "text/plain": [
       "695642    3789\n",
       "695643     571\n",
       "695644     574\n",
       "695645     575\n",
       "695646     577\n",
       "          ... \n",
       "697951    3784\n",
       "697952    3785\n",
       "697953    2047\n",
       "697954    3788\n",
       "697955    2049\n",
       "Name: movie_id, Length: 2314, dtype: int64"
      ]
     },
     "execution_count": 63,
     "metadata": {},
     "output_type": "execute_result"
    }
   ],
   "source": [
    "ratings[ratings[\"user_id\"] == list_user[0]][\"movie_id\"]"
   ]
  },
  {
   "cell_type": "markdown",
   "metadata": {},
   "source": [
    "# Méthode 1 \n",
    "\n"
   ]
  },
  {
   "cell_type": "code",
   "execution_count": 30,
   "metadata": {},
   "outputs": [],
   "source": [
    "from typing import Tuple, Union\n",
    "import random\n",
    "\n",
    "def split_ratings(ratings: np.ndarray, val_size: Union[float, int]):\n",
    "    rows, cols = np.where(ratings > 0)\n",
    "    val_ratings = np.zeros(ratings.shape)\n",
    "    train_ratings = ratings.copy()\n",
    "\n",
    "    if val_size < 1:  # Hence it is a percentage\n",
    "        val_size = int(len(rows) * val_size)\n",
    "\n",
    "    val_ids = random.sample(range(len(rows)), val_size)\n",
    "\n",
    "    for row, col in zip(rows[val_ids], cols[val_ids]):\n",
    "        train_ratings[row, col] = 0\n",
    "        val_ratings[row, col] = ratings[row, col]\n",
    "\n",
    "    return train_ratings, val_ratings"
   ]
  },
  {
   "cell_type": "code",
   "execution_count": 31,
   "metadata": {},
   "outputs": [],
   "source": [
    "movies = df.drop(columns=[\"title\", \"genres\"]).copy()\n",
    "Y1 = ratings.pivot(index='movie_id', columns='user_id', values='rating').fillna(0)\n",
    "Y2 = ratings.pivot(index='user_id', columns='movie_id', values='rating').fillna(0)\n",
    "movies_c = movies[movies['movie_id'].isin(Y1.index)].copy()\n",
    "Y1 = np.array(Y1)\n",
    "Y2 = np.array(Y2)"
   ]
  },
  {
   "cell_type": "code",
   "execution_count": 32,
   "metadata": {},
   "outputs": [],
   "source": [
    "meantimes = movies_c['runtimeMinutes'].mean()\n",
    "movies_c['runtimeMinutes'] = movies_c['runtimeMinutes'].fillna(meantimes)"
   ]
  },
  {
   "cell_type": "code",
   "execution_count": null,
   "metadata": {},
   "outputs": [
    {
     "ename": "",
     "evalue": "",
     "output_type": "error",
     "traceback": [
      "\u001b[1;31mÉchec du démarrage du Kernel. \n",
      "\u001b[1;31mzmq.error.ZMQError: Address in use (addr='tcp://127.0.0.1:9002'). \n",
      "\u001b[1;31mPour plus d’informations, consultez Jupyter <a href='command:jupyter.viewOutput'>log</a>."
     ]
    }
   ],
   "source": [
    "# movies_c.set_index(\"movie_id\", inplace=True)\n",
    "# users_df.set_index(\"user_id\", inplace=True)"
   ]
  },
  {
   "cell_type": "code",
   "execution_count": 33,
   "metadata": {},
   "outputs": [],
   "source": [
    "scaler = StandardScaler()\n",
    "scalerY = MinMaxScaler((-1,1))\n",
    "\n",
    "movie_feat = scaler.fit_transform(movies_c)\n",
    "user_feat = scaler.fit_transform(users_df)\n",
    "# y_train = scalerY.fit_transform(y_train)"
   ]
  },
  {
   "cell_type": "code",
   "execution_count": 34,
   "metadata": {},
   "outputs": [],
   "source": [
    "# calcule le masque de Y\n",
    "def getR(Y):\n",
    "    R = Y.copy()\n",
    "    R[R != 0] = 1\n",
    "    return R\n",
    "\n",
    "def normalizeRatings(Y: np.ndarray, R: np.ndarray, axis: int = 1):\n",
    "    Ymean = (np.sum(Y * R, axis=axis) / (np.sum(R, axis=axis) + 1e-12)).reshape(-1, 1)\n",
    "\n",
    "    if axis == 0:\n",
    "        Ynorm = Y.T - np.multiply(Ymean, R.T)\n",
    "    else:\n",
    "        Ynorm = Y - np.multiply(Ymean, R)\n",
    "\n",
    "    return (Ynorm, Ymean)\n",
    "\n",
    "R1 = getR(Y1)\n",
    "Ynorm1, Ymean1 = normalizeRatings(Y1, R1)\n",
    "R2 = getR(Y2)\n",
    "Ynorm2, Ymean2 = normalizeRatings(Y2, R2)"
   ]
  },
  {
   "cell_type": "code",
   "execution_count": 35,
   "metadata": {},
   "outputs": [],
   "source": [
    "#  Useful Values\n",
    "num_movies, num_users = Y.shape\n",
    "num_features = 100\n",
    "\n",
    "b1 = tf.Variable(tf.random.normal((1, num_users), dtype=tf.float64), name=\"b1\")\n",
    "b2 = tf.Variable(tf.random.normal((1, num_movies), dtype=tf.float64), name=\"b2\")\n",
    "\n",
    "W1 = tf.Variable(tf.random.normal((num_users, movie_feat.shape[1]), dtype=tf.float64), name=\"W1\")\n",
    "W2 = tf.Variable(tf.random.normal((num_movies, user_feat.shape[1]), dtype=tf.float64), name=\"W2\")\n",
    "\n",
    "X1 = tf.convert_to_tensor(movie_feat)\n",
    "X2 = tf.convert_to_tensor(user_feat)\n",
    "\n",
    "# Instantiate an optimizer.\n",
    "optimizer1 = tf.keras.optimizers.Adam(learning_rate=1)\n",
    "optimizer2 = tf.keras.optimizers.Adam(learning_rate=1)"
   ]
  },
  {
   "cell_type": "code",
   "execution_count": 56,
   "metadata": {},
   "outputs": [],
   "source": [
    "def cofi_cost_func_v(X, W, b, Y, R, lambda_):\n",
    "      j = (tf.linalg.matmul(X, tf.transpose(W)) + b - Y) * R\n",
    "      J = 0.5 * tf.reduce_sum(j**2) + (lambda_ / 2) * (tf.reduce_sum(W**2))\n",
    "      return J\n",
    "\n",
    "\n",
    "def train(X,W,b,Ynorm, R, optimizer, iterations=200, lambda_=1):\n",
    "    for iter in range(iterations):\n",
    "        # Use TensorFlow’s GradientTape\n",
    "        # to record the operations used to compute the cost\n",
    "        with tf.GradientTape() as tape:\n",
    "            # Compute the cost (forward pass included in cost)\n",
    "            cost_value = cofi_cost_func_v(X, W, b, Ynorm, R, lambda_)\n",
    "\n",
    "        # Use the gradient tape to automatically retrieve\n",
    "        # the gradients of the trainable variables with respect to the loss\n",
    "        grads = tape.gradient(cost_value, [W,b])\n",
    "\n",
    "        # Run one step of gradient descent by updating\n",
    "        # the value of the variables to minimize the loss.\n",
    "        optimizer.apply_gradients(zip(grads, [W,b]))\n",
    "\n",
    "        # Log periodically.\n",
    "        if iter % 20 == 0:\n",
    "            print(f\"Training loss at iteration {iter}: {cost_value:0.1f}\")\n",
    "    return W,b"
   ]
  },
  {
   "cell_type": "code",
   "execution_count": null,
   "metadata": {},
   "outputs": [
    {
     "ename": "",
     "evalue": "",
     "output_type": "error",
     "traceback": [
      "\u001b[1;31mÉchec du démarrage du Kernel. \n",
      "\u001b[1;31mzmq.error.ZMQError: Address in use (addr='tcp://127.0.0.1:9002'). \n",
      "\u001b[1;31mPour plus d’informations, consultez Jupyter <a href='command:jupyter.viewOutput'>log</a>."
     ]
    }
   ],
   "source": [
    "W2, b2 = train(X2,W2, b2, Ynorm2, R2,optimizer2, 300)"
   ]
  },
  {
   "cell_type": "code",
   "execution_count": 37,
   "metadata": {},
   "outputs": [
    {
     "name": "stdout",
     "output_type": "stream",
     "text": [
      "Training loss at iteration 0: 19761023.9\n",
      "Training loss at iteration 20: 1447650.5\n",
      "Training loss at iteration 40: 514406.5\n",
      "Training loss at iteration 60: 380724.9\n",
      "Training loss at iteration 80: 362720.0\n",
      "Training loss at iteration 100: 360313.8\n",
      "Training loss at iteration 120: 360039.6\n",
      "Training loss at iteration 140: 359963.8\n",
      "Training loss at iteration 160: 360043.6\n",
      "Training loss at iteration 180: 360307.6\n",
      "Training loss at iteration 200: 360374.4\n",
      "Training loss at iteration 220: 360678.9\n",
      "Training loss at iteration 240: 361229.2\n",
      "Training loss at iteration 260: 361702.4\n",
      "Training loss at iteration 280: 362169.3\n"
     ]
    }
   ],
   "source": [
    "W1, b1 = train(X1,W1, b1, Ynorm1, R1,optimizer1, 300)"
   ]
  },
  {
   "cell_type": "code",
   "execution_count": null,
   "metadata": {},
   "outputs": [
    {
     "ename": "",
     "evalue": "",
     "output_type": "error",
     "traceback": [
      "\u001b[1;31mÉchec du démarrage du Kernel. \n",
      "\u001b[1;31mzmq.error.ZMQError: Address in use (addr='tcp://127.0.0.1:9002'). \n",
      "\u001b[1;31mPour plus d’informations, consultez Jupyter <a href='command:jupyter.viewOutput'>log</a>."
     ]
    }
   ],
   "source": [
    "p = np.matmul(X1.numpy(), np.transpose(W1.numpy())) + b1.numpy()\n",
    "\n",
    "# restore the mean\n",
    "pm = p + Ymean1\n",
    "my_predictions = pm[:, 0]\n",
    "\n",
    "# sort predictions\n",
    "ix = tf.argsort(my_predictions, direction=\"DESCENDING\")\n",
    "ix"
   ]
  },
  {
   "cell_type": "code",
   "execution_count": null,
   "metadata": {},
   "outputs": [
    {
     "ename": "",
     "evalue": "",
     "output_type": "error",
     "traceback": [
      "\u001b[1;31mÉchec du démarrage du Kernel. \n",
      "\u001b[1;31mzmq.error.ZMQError: Address in use (addr='tcp://127.0.0.1:9002'). \n",
      "\u001b[1;31mPour plus d’informations, consultez Jupyter <a href='command:jupyter.viewOutput'>log</a>."
     ]
    }
   ],
   "source": [
    "# Make a prediction using trained weights and biases\n",
    "p = np.matmul(X2.numpy(), np.transpose(W2.numpy())) + b2.numpy()\n",
    "\n",
    "# restore the mean\n",
    "pm = p #+ Ymean2\n",
    "pt = pm.T\n",
    "my_predictions = pt[:, 0]\n",
    "\n",
    "# sort predictions\n",
    "ix = tf.argsort(my_predictions, direction=\"DESCENDING\")\n",
    "ix\n",
    "# for i in range(17):\n",
    "#     j = ix[i]\n",
    "#     if j not in my_rated:\n",
    "#         print(f\"Predicting rating {my_predictions[j]:0.2f} for movie {movieList[j]}\")\n",
    "\n",
    "# print(\"\\n\\nOriginal vs Predicted ratings:\\n\")\n",
    "# for i in range(len(my_ratings)):\n",
    "#     if my_ratings[i] > 0:\n",
    "#         print(\n",
    "#             f\"Original {my_ratings[i]}, Predicted {my_predictions[i]:0.2f} for {movieList[i]}\"\n",
    "        # )\n"
   ]
  },
  {
   "cell_type": "code",
   "execution_count": null,
   "metadata": {},
   "outputs": [
    {
     "ename": "",
     "evalue": "",
     "output_type": "error",
     "traceback": [
      "\u001b[1;31mÉchec du démarrage du Kernel. \n",
      "\u001b[1;31mzmq.error.ZMQError: Address in use (addr='tcp://127.0.0.1:9002'). \n",
      "\u001b[1;31mPour plus d’informations, consultez Jupyter <a href='command:jupyter.viewOutput'>log</a>."
     ]
    }
   ],
   "source": [
    "my_predictions[3552]"
   ]
  },
  {
   "cell_type": "markdown",
   "metadata": {},
   "source": [
    "# Méthode 2\n",
    "\n",
    "\n",
    "split le dataset en train et test"
   ]
  },
  {
   "cell_type": "code",
   "execution_count": null,
   "metadata": {},
   "outputs": [
    {
     "ename": "",
     "evalue": "",
     "output_type": "error",
     "traceback": [
      "\u001b[1;31mÉchec du démarrage du Kernel. \n",
      "\u001b[1;31mzmq.error.ZMQError: Address in use (addr='tcp://127.0.0.1:9002'). \n",
      "\u001b[1;31mPour plus d’informations, consultez Jupyter <a href='command:jupyter.viewOutput'>log</a>."
     ]
    }
   ],
   "source": [
    "movies = df.drop(columns=[\"title\", \"genres\"]).copy()\n",
    "\n",
    "user_train, user_test = train_test_split(users_df, test_size=0.2, random_state=42)\n",
    "\n",
    "movie_train, movie_test = train_test_split(movies, test_size=0.2, random_state=42)"
   ]
  },
  {
   "cell_type": "markdown",
   "metadata": {},
   "source": [
    "Je supprime les utilisateurs et films, venant du dataset de train, du dataset de test et vis versa. De cette manière je suis sûr que le modèle n'aura pas vu les donnés de test.\n",
    "\n",
    "Je dois ainsi mettre à jour les deux ratings pour que mes pivots correspondent bien au dataset de train et test."
   ]
  },
  {
   "cell_type": "code",
   "execution_count": null,
   "metadata": {},
   "outputs": [
    {
     "ename": "",
     "evalue": "",
     "output_type": "error",
     "traceback": [
      "\u001b[1;31mÉchec du démarrage du Kernel. \n",
      "\u001b[1;31mzmq.error.ZMQError: Address in use (addr='tcp://127.0.0.1:9002'). \n",
      "\u001b[1;31mPour plus d’informations, consultez Jupyter <a href='command:jupyter.viewOutput'>log</a>."
     ]
    }
   ],
   "source": [
    "user_id_train = np.array(user_train[\"user_id\"])\n",
    "movie_id_train = np.array(movie_train[\"movie_id\"])\n",
    "\n",
    "user_id_test = np.array(user_test[\"user_id\"])\n",
    "movie_id_test = np.array(movie_test[\"movie_id\"])\n",
    "\n",
    "ratings_train = ratings[ratings['user_id'].isin(user_id_train)].copy()\n",
    "ratings_test = ratings[ratings['user_id'].isin(user_id_test)].copy()\n",
    "\n",
    "ratings_train = ratings_train[ratings_train['movie_id'].isin(movie_id_train)]\n",
    "ratings_test = ratings_test[ratings_test['movie_id'].isin(movie_id_test)]\n",
    "\n",
    "# y_train = Y.drop(columns=[user_id_train])"
   ]
  },
  {
   "cell_type": "markdown",
   "metadata": {},
   "source": [
    "Je crée les matrices d'interactions utilisateurs-film"
   ]
  },
  {
   "cell_type": "code",
   "execution_count": null,
   "metadata": {},
   "outputs": [
    {
     "ename": "",
     "evalue": "",
     "output_type": "error",
     "traceback": [
      "\u001b[1;31mÉchec du démarrage du Kernel. \n",
      "\u001b[1;31mzmq.error.ZMQError: Address in use (addr='tcp://127.0.0.1:9002'). \n",
      "\u001b[1;31mPour plus d’informations, consultez Jupyter <a href='command:jupyter.viewOutput'>log</a>."
     ]
    }
   ],
   "source": [
    "y_train = ratings_train.pivot(index='movie_id', columns='user_id', values='rating')\n",
    "y_train = y_train.fillna(0)\n",
    "\n",
    "y_test = ratings_test.pivot(index='movie_id', columns='user_id', values='rating')\n",
    "y_test = y_test.fillna(0)\n"
   ]
  },
  {
   "cell_type": "code",
   "execution_count": null,
   "metadata": {},
   "outputs": [
    {
     "ename": "",
     "evalue": "",
     "output_type": "error",
     "traceback": [
      "\u001b[1;31mÉchec du démarrage du Kernel. \n",
      "\u001b[1;31mzmq.error.ZMQError: Address in use (addr='tcp://127.0.0.1:9002'). \n",
      "\u001b[1;31mPour plus d’informations, consultez Jupyter <a href='command:jupyter.viewOutput'>log</a>."
     ]
    }
   ],
   "source": [
    "# transforme un df en passant le column en index et en applicant la transformation trans\n",
    "def transforme(df, column, trans):\n",
    "    df.set_index(column, inplace=True)\n",
    "    return trans.fit_transform(df)\n",
    "\n",
    "# calcule le masque de Y\n",
    "def getR(Y):\n",
    "    R = Y.copy()\n",
    "    R[R != 0] = 1\n",
    "    return R"
   ]
  },
  {
   "cell_type": "markdown",
   "metadata": {},
   "source": [
    "Je normalise les différents dataset\n",
    "\n",
    "StandardScaler pour les valeurs des vecteurs de features et un minmaxscaler pour les matrices d'intéractions"
   ]
  },
  {
   "cell_type": "code",
   "execution_count": null,
   "metadata": {},
   "outputs": [
    {
     "ename": "",
     "evalue": "",
     "output_type": "error",
     "traceback": [
      "\u001b[1;31mÉchec du démarrage du Kernel. \n",
      "\u001b[1;31mzmq.error.ZMQError: Address in use (addr='tcp://127.0.0.1:9002'). \n",
      "\u001b[1;31mPour plus d’informations, consultez Jupyter <a href='command:jupyter.viewOutput'>log</a>."
     ]
    }
   ],
   "source": [
    "scaler = StandardScaler()\n",
    "\n",
    "user_train = transforme(user_train, \"user_id\", scaler)\n",
    "user_test = transforme(user_test, \"user_id\", scaler)\n",
    "\n",
    "movie_train = transforme(movie_train, \"movie_id\", scaler)\n",
    "movie_test = transforme(movie_test, \"movie_id\", scaler)"
   ]
  },
  {
   "cell_type": "code",
   "execution_count": null,
   "metadata": {},
   "outputs": [
    {
     "ename": "",
     "evalue": "",
     "output_type": "error",
     "traceback": [
      "\u001b[1;31mÉchec du démarrage du Kernel. \n",
      "\u001b[1;31mzmq.error.ZMQError: Address in use (addr='tcp://127.0.0.1:9002'). \n",
      "\u001b[1;31mPour plus d’informations, consultez Jupyter <a href='command:jupyter.viewOutput'>log</a>."
     ]
    }
   ],
   "source": [
    "scalerY = MinMaxScaler((-1,1))\n",
    "\n",
    "R_train = getR(y_train)\n",
    "R_test = getR(y_test)\n",
    "\n",
    "y_train = np.array(y_train)\n",
    "y_test = np.array(y_test)\n",
    "\n",
    "y_train = scalerY.fit_transform(y_train.reshape(-1, 1))\n",
    "y_test = scalerY.fit_transform(y_test.reshape(-1, 1))"
   ]
  },
  {
   "cell_type": "code",
   "execution_count": null,
   "metadata": {},
   "outputs": [
    {
     "ename": "",
     "evalue": "",
     "output_type": "error",
     "traceback": [
      "\u001b[1;31mÉchec du démarrage du Kernel. \n",
      "\u001b[1;31mzmq.error.ZMQError: Address in use (addr='tcp://127.0.0.1:9002'). \n",
      "\u001b[1;31mPour plus d’informations, consultez Jupyter <a href='command:jupyter.viewOutput'>log</a>."
     ]
    }
   ],
   "source": [
    "num_user_features = user_train.shape[1]\n",
    "num_item_features = movie_train.shape[1]"
   ]
  },
  {
   "cell_type": "markdown",
   "metadata": {},
   "source": [
    "### Model\n",
    "\n",
    "Réseau de neurone basique vu en cours"
   ]
  },
  {
   "cell_type": "code",
   "execution_count": null,
   "metadata": {},
   "outputs": [
    {
     "ename": "",
     "evalue": "",
     "output_type": "error",
     "traceback": [
      "\u001b[1;31mÉchec du démarrage du Kernel. \n",
      "\u001b[1;31mzmq.error.ZMQError: Address in use (addr='tcp://127.0.0.1:9002'). \n",
      "\u001b[1;31mPour plus d’informations, consultez Jupyter <a href='command:jupyter.viewOutput'>log</a>."
     ]
    }
   ],
   "source": [
    "num_outputs = 32\n",
    "tf.random.set_seed(1)\n",
    "user_NN = tf.keras.models.Sequential(\n",
    "    [\n",
    "        tf.keras.layers.Dense(256, activation=\"relu\"),\n",
    "        tf.keras.layers.Dense(128, activation=\"relu\"),\n",
    "        tf.keras.layers.Dense(num_outputs),\n",
    "    ]\n",
    ")\n",
    "\n",
    "item_NN = tf.keras.models.Sequential(\n",
    "    [\n",
    "        tf.keras.layers.Dense(256, activation=\"relu\"),\n",
    "        tf.keras.layers.Dense(128, activation=\"relu\"),\n",
    "        tf.keras.layers.Dense(num_outputs),\n",
    "    ]\n",
    ")\n",
    "\n",
    "# create the user input and point to the base network\n",
    "input_user = tf.keras.layers.Input(shape=(num_user_features))\n",
    "vu = user_NN(input_user)\n",
    "vu = tf.linalg.l2_normalize(vu, axis=1)\n",
    "\n",
    "# create the item input and point to the base network\n",
    "input_item = tf.keras.layers.Input(shape=(num_item_features))\n",
    "vm = item_NN(input_item)\n",
    "vm = tf.linalg.l2_normalize(vm, axis=1)\n",
    "\n",
    "# compute the dot product of the two vectors vu and vm\n",
    "output = tf.keras.layers.Dot(axes=1)([vu, vm])\n",
    "\n",
    "# specify the inputs and output of the model\n",
    "model = tf.keras.Model([input_user, input_item], output)\n",
    "\n",
    "model.summary()"
   ]
  },
  {
   "cell_type": "code",
   "execution_count": null,
   "metadata": {},
   "outputs": [
    {
     "ename": "",
     "evalue": "",
     "output_type": "error",
     "traceback": [
      "\u001b[1;31mÉchec du démarrage du Kernel. \n",
      "\u001b[1;31mzmq.error.ZMQError: Address in use (addr='tcp://127.0.0.1:9002'). \n",
      "\u001b[1;31mPour plus d’informations, consultez Jupyter <a href='command:jupyter.viewOutput'>log</a>."
     ]
    }
   ],
   "source": [
    "tf.random.set_seed(1)\n",
    "cost_fn = tf.keras.losses.MeanSquaredError()\n",
    "opt = keras.optimizers.Adam(learning_rate=0.01)\n",
    "model.compile(optimizer=opt, loss=cost_fn)"
   ]
  },
  {
   "cell_type": "code",
   "execution_count": null,
   "metadata": {},
   "outputs": [
    {
     "ename": "",
     "evalue": "",
     "output_type": "error",
     "traceback": [
      "\u001b[1;31mÉchec du démarrage du Kernel. \n",
      "\u001b[1;31mzmq.error.ZMQError: Address in use (addr='tcp://127.0.0.1:9002'). \n",
      "\u001b[1;31mPour plus d’informations, consultez Jupyter <a href='command:jupyter.viewOutput'>log</a>."
     ]
    }
   ],
   "source": [
    "user_train.shape"
   ]
  },
  {
   "cell_type": "code",
   "execution_count": null,
   "metadata": {},
   "outputs": [
    {
     "ename": "",
     "evalue": "",
     "output_type": "error",
     "traceback": [
      "\u001b[1;31mÉchec du démarrage du Kernel. \n",
      "\u001b[1;31mzmq.error.ZMQError: Address in use (addr='tcp://127.0.0.1:9002'). \n",
      "\u001b[1;31mPour plus d’informations, consultez Jupyter <a href='command:jupyter.viewOutput'>log</a>."
     ]
    }
   ],
   "source": [
    "tf.random.set_seed(1)\n",
    "model.fit(\n",
    "    [user_train, movie_train],\n",
    "    y_train,\n",
    "    epochs=2,\n",
    "    validation_data=([user_test, movie_test], y_test),\n",
    ")"
   ]
  }
 ],
 "metadata": {
  "kernelspec": {
   "display_name": "RSys",
   "language": "python",
   "name": "python3"
  },
  "language_info": {
   "codemirror_mode": {
    "name": "ipython",
    "version": 3
   },
   "file_extension": ".py",
   "mimetype": "text/x-python",
   "name": "python",
   "nbconvert_exporter": "python",
   "pygments_lexer": "ipython3",
   "version": "3.9.19"
  }
 },
 "nbformat": 4,
 "nbformat_minor": 2
}
